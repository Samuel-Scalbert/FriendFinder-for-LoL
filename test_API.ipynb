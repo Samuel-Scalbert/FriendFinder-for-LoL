{
 "cells": [
  {
   "cell_type": "code",
   "execution_count": 2,
   "metadata": {},
   "outputs": [],
   "source": [
    "api_key = \"RGAPI-ffb9f150-086f-4fcb-b0bb-0bba82740d7a\""
   ]
  },
  {
   "cell_type": "code",
   "execution_count": 33,
   "metadata": {},
   "outputs": [
    {
     "data": {
      "text/plain": [
       "'Pyke'"
      ]
     },
     "execution_count": 33,
     "metadata": {},
     "output_type": "execute_result"
    }
   ],
   "source": [
    "import requests\n",
    "\n",
    "version_patch = requests.get('https://ddragon.leagueoflegends.com/api/versions.json').json()\n",
    "version_patch = version_patch[0]\n",
    "data_champion = requests.get('https://ddragon.leagueoflegends.com/cdn/'+ version_patch +'/data/fr_FR/champion.json').json()\n",
    "id_champion = data_champion[\"data\"]\n",
    "\n",
    "def getChampionInfo(id):\n",
    "    global id_champion\n",
    "    for key in id_champion:\n",
    "        if id_champion[key]['key'] == str(id):\n",
    "            return key\n",
    "    return False\n",
    "\n",
    "getChampionInfo(555)"
   ]
  },
  {
   "cell_type": "code",
   "execution_count": 4,
   "metadata": {},
   "outputs": [],
   "source": [
    "#converter roman number to int (the date won't go further 5 as there is only 5 tier possible in the data)\n",
    "class roman_to_int(object):\n",
    "   def romanToInt(self, s):\n",
    "      \"\"\"\n",
    "      :type s: str\n",
    "      :rtype: int\n",
    "      \"\"\"\n",
    "      roman = {'I':1,'V':5}\n",
    "      i = 0\n",
    "      num = 0\n",
    "      while i < len(s):\n",
    "         if i+1<len(s) and s[i:i+2] in roman:\n",
    "            num+=roman[s[i:i+2]]\n",
    "            i+=2\n",
    "         else:\n",
    "            num+=roman[s[i]]\n",
    "            i+=1\n",
    "      return num\n"
   ]
  },
  {
   "cell_type": "code",
   "execution_count": 5,
   "metadata": {},
   "outputs": [
    {
     "name": "stdout",
     "output_type": "stream",
     "text": [
      "Failed to retrieve data for summoner SaintLoutr\n",
      "Failed to retrieve data for summoner Draeknof\n",
      "Failed to retrieve data for summoner Haukeas Grémory\n",
      "Failed to retrieve data for summoner Caio73\n",
      "Failed to retrieve data for summoner charlos92604\n",
      "Failed to retrieve data for summoner 7689000\n",
      "Failed to retrieve data for summoner Alrsay\n",
      "Failed to retrieve data for summoner TheK1ngPotato\n",
      "Failed to retrieve data for summoner Blarckful\n"
     ]
    }
   ],
   "source": [
    "## function ranking_information : take a list of summoners name and return a list of those summoners but with their rank informations (if the summoners is not found he is not added to the output list)\n",
    "\n",
    "def ranking_information (summoner_list_name:list):\n",
    "    global list_summoner_rank\n",
    "    list_summoner_rank = []\n",
    "\n",
    "    for summoner in summoner_list_name:\n",
    "    \n",
    "        ## retrieve two important informations (the id and puuid) for the next steps\n",
    "        \n",
    "        data_summoner = requests.get('https://euw1.api.riotgames.com/lol/summoner/v4/summoners/by-name/'+ summoner +'?api_key='+api_key).json()\n",
    "        if data_summoner is not None and \"id\" in data_summoner:\n",
    "            id_summoner = data_summoner.get(\"id\")\n",
    "            puuid_summoner = data_summoner.get(\"puuid\")\n",
    "          \n",
    "            ## with the id we can retrieve the information of the account (tier, LP, rank)  \n",
    "            \n",
    "            data_rank = requests.get('https://euw1.api.riotgames.com/lol/league/v4/entries/by-summoner/'+ id_summoner +'?api_key='+api_key).json()\n",
    "        \n",
    "            ## we check from the data_rank if the account has done any SOLO Q games for this season only !!\n",
    "            \n",
    "            presence_of_soloq_data = False\n",
    "            for data_SOLOQ in data_rank:\n",
    "                if data_SOLOQ['queueType'] == \"RANKED_SOLO_5x5\":\n",
    "                    print(summoner,data_SOLOQ['tier'],data_SOLOQ['rank'],data_SOLOQ['leaguePoints'], \"LP\")\n",
    "                    rank = roman_to_int().romanToInt(data_SOLOQ['rank'])\n",
    "                    \n",
    "                    ## here we save the informations for each account            \n",
    "                      \n",
    "                    list_summoner_rank.append((summoner,data_SOLOQ['tier'],rank,data_SOLOQ['leaguePoints']))\n",
    "                    presence_of_soloq_data = True\n",
    "            if not presence_of_soloq_data:\n",
    "                print(f\"No data / No SOLO Q for this account : {summoner}\")\n",
    "\n",
    "                ## we still keep the summoner in the final list (to avoid users thinking that the account was not checked)\n",
    "                    \n",
    "                list_summoner_rank.append((summoner,\"none\",\"0\", \"0\"))\n",
    "        else:\n",
    "            print(f\"Failed to retrieve data for summoner {summoner}\")\n",
    "            \n",
    "summoner_list = [\"SaintLoutr\",\"Draeknof\",\"Haukeas Grémory\",\"Caio73\",\"charlos92604\",\"7689000\",\"Alrsay\",\"TheK1ngPotato\",\"Blarckful\"]\n",
    "#summoner_list = [\"SaintLoutr\",\"TheK1ngPotato\",\"Draeknof\"]\n",
    "\n",
    "ranking_information(summoner_list)"
   ]
  },
  {
   "cell_type": "code",
   "execution_count": 6,
   "metadata": {},
   "outputs": [
    {
     "name": "stdout",
     "output_type": "stream",
     "text": [
      "1679180401 1679266799\n"
     ]
    }
   ],
   "source": [
    "import datetime\n",
    "import calendar\n",
    "\n",
    "## set the time of today\n",
    "\n",
    "now = datetime.datetime.now()\n",
    "\n",
    "start_of_day = datetime.datetime(\n",
    "    year=now.year,\n",
    "    month=now.month,\n",
    "    day=now.day,\n",
    "    hour=0,\n",
    "    minute=0,\n",
    "    second= 1,\n",
    ")\n",
    "\n",
    "end_of_day = datetime.datetime(\n",
    "    year=now.year,\n",
    "    month=now.month,\n",
    "    day=now.day,\n",
    "    hour=23,\n",
    "    minute=59,\n",
    "    second=59,\n",
    ")\n",
    "\n",
    "## retrieve the start of the day and the end of the day\n",
    "\n",
    "end_of_day_epoch = str(int(end_of_day.timestamp()))\n",
    "start_of_day_epoch = str(int(start_of_day.timestamp()))\n",
    "\n",
    "print(start_of_day_epoch, end_of_day_epoch)\n"
   ]
  },
  {
   "cell_type": "code",
   "execution_count": 7,
   "metadata": {},
   "outputs": [
    {
     "ename": "TypeError",
     "evalue": "can only concatenate str (not \"NoneType\") to str",
     "output_type": "error",
     "traceback": [
      "\u001b[1;31m---------------------------------------------------------------------------\u001b[0m",
      "\u001b[1;31mTypeError\u001b[0m                                 Traceback (most recent call last)",
      "Cell \u001b[1;32mIn[7], line 35\u001b[0m\n\u001b[0;32m     32\u001b[0m             \u001b[39mprint\u001b[39m(\u001b[39mf\u001b[39m\u001b[39m\"\u001b[39m\u001b[39mPas de match classé aujourd\u001b[39m\u001b[39m'\u001b[39m\u001b[39mhui pour \u001b[39m\u001b[39m{\u001b[39;00msummoner\u001b[39m}\u001b[39;00m\u001b[39m\"\u001b[39m)            \n\u001b[0;32m     33\u001b[0m     list_player \u001b[39m=\u001b[39m []\n\u001b[1;32m---> 35\u001b[0m result_match(summoner_list)\n",
      "Cell \u001b[1;32mIn[7], line 13\u001b[0m, in \u001b[0;36mresult_match\u001b[1;34m(summoner_list)\u001b[0m\n\u001b[0;32m      9\u001b[0m puuid_summoner \u001b[39m=\u001b[39m data_summoner\u001b[39m.\u001b[39mget(\u001b[39m\"\u001b[39m\u001b[39mpuuid\u001b[39m\u001b[39m\"\u001b[39m)\n\u001b[0;32m     11\u001b[0m \u001b[39m## with the id, the end of the day, and the start of the day we can check if the account has done any SOLOQ for the day\u001b[39;00m\n\u001b[1;32m---> 13\u001b[0m matches_id \u001b[39m=\u001b[39m requests\u001b[39m.\u001b[39mget(\u001b[39m'\u001b[39;49m\u001b[39mhttps://europe.api.riotgames.com/lol/match/v5/matches/by-puuid/\u001b[39;49m\u001b[39m'\u001b[39;49m\u001b[39m+\u001b[39;49m puuid_summoner \u001b[39m+\u001b[39m\u001b[39m'\u001b[39m\u001b[39m/ids?queue=\u001b[39m\u001b[39m'\u001b[39m\u001b[39m+\u001b[39m\u001b[39m'\u001b[39m\u001b[39m420\u001b[39m\u001b[39m'\u001b[39m\u001b[39m+\u001b[39m\u001b[39m'\u001b[39m\u001b[39m&startTime=\u001b[39m\u001b[39m'\u001b[39m\u001b[39m+\u001b[39m start_of_day_epoch \u001b[39m+\u001b[39m\u001b[39m'\u001b[39m\u001b[39m&endTime=\u001b[39m\u001b[39m'\u001b[39m\u001b[39m+\u001b[39m end_of_day_epoch \u001b[39m+\u001b[39m\u001b[39m'\u001b[39m\u001b[39m&count=20&api_key=\u001b[39m\u001b[39m'\u001b[39m\u001b[39m+\u001b[39mapi_key)\u001b[39m.\u001b[39mjson()\n\u001b[0;32m     15\u001b[0m \u001b[39m## check if there is any match\u001b[39;00m\n\u001b[0;32m     17\u001b[0m \u001b[39mif\u001b[39;00m \u001b[39mlen\u001b[39m(matches_id) \u001b[39m!=\u001b[39m \u001b[39m0\u001b[39m:  \n",
      "\u001b[1;31mTypeError\u001b[0m: can only concatenate str (not \"NoneType\") to str"
     ]
    }
   ],
   "source": [
    "## the function result_match take a list of summoners and return a list of the results of their SOLOQ of the day \n",
    "def result_match (summoner_list):\n",
    "\n",
    "    for summoner in summoner_list:\n",
    "        w = 0\n",
    "        l = 0 \n",
    "        wr = 0\n",
    "        data_summoner = requests.get('https://euw1.api.riotgames.com/lol/summoner/v4/summoners/by-name/'+ summoner +'?api_key='+api_key).json()\n",
    "        puuid_summoner = data_summoner.get(\"puuid\")\n",
    "        \n",
    "        ## with the id, the end of the day, and the start of the day we can check if the account has done any SOLOQ for the day\n",
    "        \n",
    "        matches_id = requests.get('https://europe.api.riotgames.com/lol/match/v5/matches/by-puuid/'+ puuid_summoner +'/ids?queue='+'420'+'&startTime='+ start_of_day_epoch +'&endTime='+ end_of_day_epoch +'&count=20&api_key='+api_key).json()\n",
    "\n",
    "        ## check if there is any match\n",
    "        \n",
    "        if len(matches_id) != 0:  \n",
    "            for match_id in matches_id:\n",
    "                \n",
    "                ## check the result of the game for the summoner\n",
    "                \n",
    "                match_info = requests.get(\"https://europe.api.riotgames.com/lol/match/v5/matches/\"+ match_id +\"?api_key=\" + api_key).json()\n",
    "                for player in (match_info['info']['participants']):\n",
    "                    if player['puuid'] == puuid_summoner:\n",
    "                        if player['win'] == True:\n",
    "                            w += 1\n",
    "                        else:\n",
    "                            l += 1\n",
    "            wr = (w / (w + l)) * 100\n",
    "            print(f\"le winrate de {summoner}:\",wr,\"%\",\"pour\",w + l,\"parties\")\n",
    "        else:\n",
    "            print(f\"Pas de match classé aujourd'hui pour {summoner}\")            \n",
    "    list_player = []\n",
    "\n",
    "result_match(summoner_list)"
   ]
  },
  {
   "cell_type": "code",
   "execution_count": null,
   "metadata": {},
   "outputs": [
    {
     "name": "stdout",
     "output_type": "stream",
     "text": [
      "Connexion réussie à SQLite\n",
      "Enregistrement inséré avec succès dans la table leaderboard pour le compte SaintLoutr\n",
      "Connexion SQLite est fermée\n",
      "Connexion réussie à SQLite\n",
      "Enregistrement inséré avec succès dans la table leaderboard pour le compte TheK1ngPotato\n",
      "Connexion SQLite est fermée\n",
      "Connexion réussie à SQLite\n",
      "Enregistrement inséré avec succès dans la table leaderboard pour le compte Draeknof\n",
      "Connexion SQLite est fermée\n"
     ]
    }
   ],
   "source": [
    "#ajout des données de rank des compte dans une base de données\n",
    "\n",
    "import sqlite3\n",
    "\n",
    "def insert_into_leaderboard(SummonerName, Tier, Rank, LP):\n",
    "  try:\n",
    "    conn = sqlite3.connect('leaderboard.db')\n",
    "    cur = conn.cursor()\n",
    "    print(\"Connexion réussie à SQLite\")\n",
    "    sql = \"INSERT INTO leaderboard (SummonerName, Tier, Rank, LP) VALUES (?, ?, ?, ?)\"\n",
    "    value = (SummonerName, Tier, Rank, LP)\n",
    "    cur.execute(sql, value)\n",
    "    conn.commit()\n",
    "    print(f\"Enregistrement inséré avec succès dans la table leaderboard pour le compte {SummonerName}\")\n",
    "    cur.close()\n",
    "    conn.close()\n",
    "    print(\"Connexion SQLite est fermée\")\n",
    "  except sqlite3.Error as error:\n",
    "    print(\"Erreur lors de l'insertion dans la table leaderboard\", error)\n",
    "\n",
    "for summoner in list_summoner_rank:\n",
    "    SummonerName, Tier, Rank, LP = summoner\n",
    "    insert_into_leaderboard(SummonerName, Tier, Rank, LP)"
   ]
  },
  {
   "cell_type": "code",
   "execution_count": null,
   "metadata": {},
   "outputs": [
    {
     "name": "stdout",
     "output_type": "stream",
     "text": [
      "Connexion réussie à SQLite\n",
      "leaderboard supprimé\n",
      "Connexion SQLite est fermée\n"
     ]
    }
   ],
   "source": [
    "#suppresion de la table\n",
    "\n",
    "try:\n",
    "   conn = sqlite3.connect('leaderboard.db')\n",
    "   cur = conn.cursor()\n",
    "   print(\"Connexion réussie à SQLite\")\n",
    "   cur.execute(\"delete from leaderboard\")\n",
    "   conn.commit()\n",
    "   print(\"leaderboard supprimé\")\n",
    "   cur.close()\n",
    "   conn.close()\n",
    "   print(\"Connexion SQLite est fermée\")\n",
    "except sqlite3.Error as error:\n",
    "   print(\"Erreur \", error)"
   ]
  },
  {
   "cell_type": "code",
   "execution_count": null,
   "metadata": {},
   "outputs": [
    {
     "name": "stdout",
     "output_type": "stream",
     "text": [
      "Connexion réussie à SQLite\n",
      "leaderboard sorted\n",
      "Connexion SQLite est fermée\n"
     ]
    }
   ],
   "source": [
    "#sorting de la liste\n",
    "\n",
    "try:\n",
    "   conn = sqlite3.connect('leaderboard.db')\n",
    "   cur = conn.cursor()\n",
    "   print(\"Connexion réussie à SQLite\")\n",
    "   cur.execute(\"SELECT *FROM leaderboard ORDER BY CASE WHEN tier = 'CHALLENGER' THEN 1 WHEN tier = 'GRANDMASTER' THEN 2 WHEN tier = 'MASTER' THEN 3 WHEN tier = 'DIAMOND' THEN 4 WHEN tier = 'PLATINIUM' THEN 5 WHEN tier = 'GOLD' THEN 6 WHEN tier = 'SILVER' THEN 7 WHEN tier = 'BRONZE' THEN 8 WHEN tier = 'IRON' THEN 9 ELSE 10 END,Rank asc,lp desc;\")\n",
    "   conn.commit()\n",
    "   print(\"leaderboard sorted\")\n",
    "   cur.close()\n",
    "   conn.close()\n",
    "   print(\"Connexion SQLite est fermée\")\n",
    "except sqlite3.Error as error:\n",
    "   print(\"Erreur \", error)"
   ]
  }
 ],
 "metadata": {
  "kernelspec": {
   "display_name": "Python 3",
   "language": "python",
   "name": "python3"
  },
  "language_info": {
   "codemirror_mode": {
    "name": "ipython",
    "version": 3
   },
   "file_extension": ".py",
   "mimetype": "text/x-python",
   "name": "python",
   "nbconvert_exporter": "python",
   "pygments_lexer": "ipython3",
   "version": "3.10.10"
  },
  "orig_nbformat": 4,
  "vscode": {
   "interpreter": {
    "hash": "c59af9261b624e332de6bd3da01cf174f757b5c645fe4791478215dc0e304c87"
   }
  }
 },
 "nbformat": 4,
 "nbformat_minor": 2
}
