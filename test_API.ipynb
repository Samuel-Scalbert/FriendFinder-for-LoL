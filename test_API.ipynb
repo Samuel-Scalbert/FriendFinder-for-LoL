{
 "cells": [
  {
   "cell_type": "code",
   "execution_count": 1,
   "metadata": {},
   "outputs": [],
   "source": [
    "api_key = \"RGAPI-d1634988-5750-4e00-99a7-93cbd5a70d75\""
   ]
  },
  {
   "cell_type": "code",
   "execution_count": 2,
   "metadata": {},
   "outputs": [
    {
     "ename": "SyntaxError",
     "evalue": "invalid syntax (628477222.py, line 7)",
     "output_type": "error",
     "traceback": [
      "\u001b[1;36m  Cell \u001b[1;32mIn[2], line 7\u001b[1;36m\u001b[0m\n\u001b[1;33m    https://europe.api.riotgames.com/lol/match/v5/matches/by-puuid/PVQMuZ2ZQZG4EuCNAc16t-4KhpRNBFdivj79tDwfUEmuLHhfWrcm37yeIZ3pPAc0_hVbPluismBjpg/ids?start=0&count=20&api_key=RGAPI-4e265ad2-2b7b-4fb8-b049-e765d461441e\u001b[0m\n\u001b[1;37m          ^\u001b[0m\n\u001b[1;31mSyntaxError\u001b[0m\u001b[1;31m:\u001b[0m invalid syntax\n"
     ]
    }
   ],
   "source": [
    "import requests\n",
    "data_summoner = requests.get('https://euw1.api.riotgames.com/lol/summoner/v4/summoners/by-name/'+ 'SaintLoutr' +'?api_key='+api_key).json()\n",
    "puuid_summoner = data_summoner.get(\"puuid\")\n",
    "id_summoner = data_summoner.get(\"id\")  \n",
    "print(puuid_summoner,\"\\n\",id_summoner) \n",
    "\n",
    "https://europe.api.riotgames.com/lol/match/v5/matches/by-puuid/PVQMuZ2ZQZG4EuCNAc16t-4KhpRNBFdivj79tDwfUEmuLHhfWrcm37yeIZ3pPAc0_hVbPluismBjpg/ids?start=0&count=20&api_key=RGAPI-4e265ad2-2b7b-4fb8-b049-e765d461441e\n"
   ]
  },
  {
   "cell_type": "code",
   "execution_count": null,
   "metadata": {},
   "outputs": [
    {
     "name": "stdout",
     "output_type": "stream",
     "text": [
      "SaintLoutr SILVER II 23 LP\n",
      "Draeknof GOLD IV 43 LP\n",
      "Haukeas Grémory GOLD IV 12 LP\n"
     ]
    }
   ],
   "source": [
    "## récupère puis stocke le PUUID du summoner\n",
    "\n",
    "def ranking (summoner_list):\n",
    "\n",
    "    for summoner in summoner_list:\n",
    "        data_summoner = requests.get('https://euw1.api.riotgames.com/lol/summoner/v4/summoners/by-name/'+ summoner +'?api_key='+api_key).json()\n",
    "        puuid_summoner = data_summoner.get(\"puuid\")\n",
    "        id_summoner = data_summoner.get(\"id\")\n",
    "        #print(\"puuid =\", puuid_summoner, \"\\nid =\", id_summoner)\n",
    "\n",
    "## récupère les matchs (les derniers) du summoner (ici 5 matchs)\n",
    "## ressource utile les ID des queues : https://static.developer.riotgames.com/docs/lol/queues.json\n",
    "## récupère la division, le tier et les LP du compte\n",
    "\n",
    "        data_rank = requests.get('https://euw1.api.riotgames.com/lol/league/v4/entries/by-summoner/'+ id_summoner +'?api_key='+api_key).json()\n",
    "\n",
    "        for data_SOLOQ in data_rank:\n",
    "            if data_SOLOQ['queueType'] == 'RANKED_SOLO_5x5':\n",
    "                data_rank=data_SOLOQ\n",
    "\n",
    "        print(summoner,data_rank['tier'],data_rank['rank'],data_rank['leaguePoints'], \"LP\") \n",
    "    \n",
    "    \n",
    "summoner_list = [\"SaintLoutr\",\"Draeknof\",\"Haukeas Grémory\"]\n",
    "\n",
    "ranking(summoner_list)\n",
    "    \n",
    "\n",
    "\n"
   ]
  },
  {
   "cell_type": "code",
   "execution_count": null,
   "metadata": {},
   "outputs": [
    {
     "name": "stdout",
     "output_type": "stream",
     "text": [
      "SaintLoutr\n",
      "LOOSE\n",
      "WIN\n",
      "WIN\n",
      "LOOSE\n",
      "LOOSE\n",
      "Draeknof\n",
      "WIN\n",
      "LOOSE\n",
      "LOOSE\n",
      "LOOSE\n",
      "LOOSE\n",
      "Haukeas Grémory\n",
      "LOOSE\n",
      "WIN\n",
      "LOOSE\n",
      "WIN\n",
      "LOOSE\n"
     ]
    }
   ],
   "source": [
    "##vérifie le résultat des game avec l'ID du match et le PUUID du summoner \n",
    "def result_match (summoner_list):\n",
    "    \n",
    "    for summoner in summoner_list:\n",
    "        data_summoner = requests.get('https://euw1.api.riotgames.com/lol/summoner/v4/summoners/by-name/'+ summoner +'?api_key='+api_key).json()\n",
    "        puuid_summoner = data_summoner.get(\"puuid\")\n",
    "        matches_id = requests.get('https://europe.api.riotgames.com/lol/match/v5/matches/by-puuid/'+ puuid_summoner +'/ids?queue='+'420'+'&start=0&count=5&api_key='+api_key).json()\n",
    "        print(summoner)\n",
    "\n",
    "        \n",
    "        for match_id in matches_id:\n",
    "            match_info = requests.get(\"https://europe.api.riotgames.com/lol/match/v5/matches/\"+ match_id +\"?api_key=\" + api_key).json()\n",
    "            for player in (match_info['info']['participants']):\n",
    "                if player['puuid'] == puuid_summoner:\n",
    "                    if player['win'] == True:\n",
    "                        print(\"WIN\")\n",
    "                    else:\n",
    "                        print(\"LOOSE\")\n",
    "                \n",
    "    list_player = []\n",
    "\n",
    "summoner_list = [\"SaintLoutr\",\"Draeknof\",\"Haukeas Grémory\"]\n",
    "result_match(summoner_list)"
   ]
  },
  {
   "cell_type": "code",
   "execution_count": null,
   "metadata": {},
   "outputs": [
    {
     "ename": "NameError",
     "evalue": "name 'matches_id' is not defined",
     "output_type": "error",
     "traceback": [
      "\u001b[1;31m---------------------------------------------------------------------------\u001b[0m",
      "\u001b[1;31mNameError\u001b[0m                                 Traceback (most recent call last)",
      "Cell \u001b[1;32mIn[15], line 3\u001b[0m\n\u001b[0;32m      1\u001b[0m \u001b[39m##vérifie le résultat des game avec l'ID du match et le PUUID du summoner \u001b[39;00m\n\u001b[1;32m----> 3\u001b[0m \u001b[39mfor\u001b[39;00m match_id \u001b[39min\u001b[39;00m matches_id:\n\u001b[0;32m      4\u001b[0m     match_info \u001b[39m=\u001b[39m requests\u001b[39m.\u001b[39mget(\u001b[39m\"\u001b[39m\u001b[39mhttps://europe.api.riotgames.com/lol/match/v5/matches/\u001b[39m\u001b[39m\"\u001b[39m\u001b[39m+\u001b[39m match_id \u001b[39m+\u001b[39m\u001b[39m\"\u001b[39m\u001b[39m?api_key=\u001b[39m\u001b[39m\"\u001b[39m \u001b[39m+\u001b[39m api_key)\u001b[39m.\u001b[39mjson()\n\u001b[0;32m      6\u001b[0m     \u001b[39mfor\u001b[39;00m player \u001b[39min\u001b[39;00m (match_info[\u001b[39m'\u001b[39m\u001b[39minfo\u001b[39m\u001b[39m'\u001b[39m][\u001b[39m'\u001b[39m\u001b[39mparticipants\u001b[39m\u001b[39m'\u001b[39m]):\n",
      "\u001b[1;31mNameError\u001b[0m: name 'matches_id' is not defined"
     ]
    }
   ],
   "source": [
    "##vérifie le résultat des game avec l'ID du match et le PUUID du summoner \n",
    "\n",
    "for match_id in matches_id:\n",
    "    match_info = requests.get(\"https://europe.api.riotgames.com/lol/match/v5/matches/\"+ match_id +\"?api_key=\" + api_key).json()\n",
    "    \n",
    "    for player in (match_info['info']['participants']):\n",
    "        if player['puuid'] == puuid_summoner:\n",
    "            if player['win'] == True:\n",
    "                print(\"WIN\")\n",
    "            else:\n",
    "                print(\"LOOSE\")\n",
    "                \n",
    "    list_player = []\n",
    "            for player in (match_info['metadata']['participants']):\n",
    "                list_player.append(player)\n",
    "            position_player = list_player.index(puuid_summoner)\n",
    "            if match_info['info']['participants'][position_player]['puuid'] == puuid_summoner:\n",
    "                    if match_info['info']['participants'][position_player]['win'] == True:\n",
    "                        print(\"WIN\")\n",
    "                    else:\n",
    "                        print(\"LOOSE\")\n",
    "\n",
    "            "
   ]
  }
 ],
 "metadata": {
  "kernelspec": {
   "display_name": "base",
   "language": "python",
   "name": "python3"
  },
  "language_info": {
   "codemirror_mode": {
    "name": "ipython",
    "version": 3
   },
   "file_extension": ".py",
   "mimetype": "text/x-python",
   "name": "python",
   "nbconvert_exporter": "python",
   "pygments_lexer": "ipython3",
   "version": "3.9.7"
  },
  "orig_nbformat": 4,
  "vscode": {
   "interpreter": {
    "hash": "9429e3d8733c1ac76f5c3b0c6cdd2706acd1fd7b4f8c91f27a242412c8600fc4"
   }
  }
 },
 "nbformat": 4,
 "nbformat_minor": 2
}
