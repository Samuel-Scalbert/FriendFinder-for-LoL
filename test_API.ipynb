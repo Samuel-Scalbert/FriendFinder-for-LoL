{
 "cells": [
  {
   "cell_type": "code",
   "execution_count": 2,
   "metadata": {},
   "outputs": [],
   "source": [
    "api_key = \"RGAPI-dcc739ff-da03-463f-b0fe-18d40ffd7e9a\""
   ]
  },
  {
   "cell_type": "code",
   "execution_count": 3,
   "metadata": {},
   "outputs": [],
   "source": [
    "import requests"
   ]
  },
  {
   "cell_type": "code",
   "execution_count": 113,
   "metadata": {},
   "outputs": [
    {
     "name": "stdout",
     "output_type": "stream",
     "text": [
      "puuid = PVQMuZ2ZQZG4EuCNAc16t-4KhpRNBFdivj79tDwfUEmuLHhfWrcm37yeIZ3pPAc0_hVbPluismBjpg\n",
      "SaintLoutr  WIN\n",
      "SaintLoutr  LOOSE\n",
      "SaintLoutr  LOOSE\n",
      "SaintLoutr  WIN\n",
      "SaintLoutr  LOOSE\n",
      "SaintLoutr  WIN\n",
      "SaintLoutr  WIN\n",
      "SaintLoutr  WIN\n",
      "SaintLoutr  LOOSE\n",
      "SaintLoutr  WIN\n",
      "WIN = 6 \n",
      "LOOSE = 4\n"
     ]
    }
   ],
   "source": [
    "## API key\n",
    "\n",
    "api_key = \"RGAPI-dcc739ff-da03-463f-b0fe-18d40ffd7e9a\"\n",
    "\n",
    "## récupère puis stocke le PUUID du summoner\n",
    "\n",
    "#summonerName = input(\"Summoner Name:\")\n",
    "\n",
    "data_summoner = requests.get('https://euw1.api.riotgames.com/lol/summoner/v4/summoners/by-name/'+ 'SaintLoutr' +'?api_key='+api_key).json()\n",
    "puuid_summoner = data_summoner.get(\"puuid\")\n",
    "print(\"puuid =\", puuid_summoner)\n",
    "\n",
    "## récupère les matchs (les derniers) du summoner (ici 5 matchs)\n",
    "## ressource utile les ID des queues : https://static.developer.riotgames.com/docs/lol/queues.json\n",
    "\n",
    "matches_id = requests.get('https://europe.api.riotgames.com/lol/match/v5/matches/by-puuid/'+ puuid_summoner +'/ids?queue=420&start=0&count=10&api_key='+api_key).json()\n",
    "\n",
    "##vérifie le résultat des game avec l'ID du match et le PUUID du summoner\n",
    "\n",
    "win = 0\n",
    "loose = 0\n",
    "for match_id in matches_id:\n",
    "    match_info = requests.get(\"https://europe.api.riotgames.com/lol/match/v5/matches/\"+ match_id +\"?api_key=\" + api_key).json()\n",
    "    \n",
    "    for player in (match_info['info']['participants']):\n",
    "        if player['puuid'] == puuid_summoner:\n",
    "            if player['win'] == True:\n",
    "                print(player['summonerName'],\" WIN\")\n",
    "                win += 1\n",
    "            else:\n",
    "                print(player['summonerName'],\" LOOSE\")\n",
    "                loose += 1\n",
    "print(\"WIN =\",win,\"\\nLOOSE =\",loose)\n",
    "            \n",
    "\n",
    "\n"
   ]
  }
 ],
 "metadata": {
  "kernelspec": {
   "display_name": "Python 3",
   "language": "python",
   "name": "python3"
  },
  "language_info": {
   "codemirror_mode": {
    "name": "ipython",
    "version": 3
   },
   "file_extension": ".py",
   "mimetype": "text/x-python",
   "name": "python",
   "nbconvert_exporter": "python",
   "pygments_lexer": "ipython3",
   "version": "3.10.10"
  },
  "orig_nbformat": 4,
  "vscode": {
   "interpreter": {
    "hash": "c59af9261b624e332de6bd3da01cf174f757b5c645fe4791478215dc0e304c87"
   }
  }
 },
 "nbformat": 4,
 "nbformat_minor": 2
}
