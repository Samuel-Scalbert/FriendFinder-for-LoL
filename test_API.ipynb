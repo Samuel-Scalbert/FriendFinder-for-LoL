{
 "cells": [
  {
   "cell_type": "code",
   "execution_count": 31,
   "metadata": {},
   "outputs": [],
   "source": [
    "api_key = \"RGAPI-990cb574-183d-4308-b0c1-9e85a45c4aae\""
   ]
  },
  {
   "cell_type": "code",
   "execution_count": 32,
   "metadata": {},
   "outputs": [],
   "source": [
    "import requests"
   ]
  },
  {
   "cell_type": "code",
   "execution_count": 33,
   "metadata": {},
   "outputs": [
    {
     "name": "stdout",
     "output_type": "stream",
     "text": [
      "CHALLENGER I  :  849\n"
     ]
    }
   ],
   "source": [
    "## récupère puis stocke le PUUID du summoner\n",
    "\n",
    "data_summoner = requests.get('https://euw1.api.riotgames.com/lol/summoner/v4/summoners/by-name/'+ 'AEGIS EIKA' +'?api_key='+api_key).json()\n",
    "puuid_summoner = data_summoner.get(\"puuid\")\n",
    "id_summoner = data_summoner.get(\"id\")\n",
    "#print(\"puuid =\", puuid_summoner, \"\\nid =\", id_summoner)\n",
    "\n",
    "## récupère les matchs (les derniers) du summoner (ici 5 matchs)\n",
    "## ressource utile les ID des queues : https://static.developer.riotgames.com/docs/lol/queues.json\n",
    "## récupère la division, le tier et les LP du compte\n",
    "\n",
    "matches_id = requests.get('https://europe.api.riotgames.com/lol/match/v5/matches/by-puuid/'+ puuid_summoner +'/ids?queue='+'420'+'&start=0&count=5&api_key='+api_key).json()\n",
    "data_rank = requests.get('https://euw1.api.riotgames.com/lol/league/v4/entries/by-summoner/'+ id_summoner +'?api_key='+api_key).json()\n",
    "print(data_rank[0]['tier'],data_rank[0]['rank'],\" : \",data_rank[0]['leaguePoints']) \n",
    "\n",
    "\n"
   ]
  },
  {
   "cell_type": "code",
   "execution_count": 34,
   "metadata": {},
   "outputs": [
    {
     "name": "stdout",
     "output_type": "stream",
     "text": [
      "WIN\n",
      "WIN\n",
      "WIN\n",
      "LOOSE\n",
      "WIN\n",
      "WIN = 4 \n",
      "LOOSE = 1\n"
     ]
    }
   ],
   "source": [
    "##vérifie le résultat des game avec l'ID du match et le PUUID du summoner \n",
    "\n",
    "win = 0\n",
    "loose = 0\n",
    "for match_id in matches_id:\n",
    "    match_info = requests.get(\"https://europe.api.riotgames.com/lol/match/v5/matches/\"+ match_id +\"?api_key=\" + api_key).json()\n",
    "    list_player = []\n",
    "    for player in (match_info['metadata']['participants']):\n",
    "        list_player.append(player)\n",
    "    position_player = list_player.index(puuid_summoner)\n",
    "    if match_info['info']['participants'][position_player]['puuid'] == puuid_summoner:\n",
    "            if match_info['info']['participants'][position_player]['win'] == True:\n",
    "                print(\"WIN\")\n",
    "                win += 1\n",
    "            else:\n",
    "                print(\"LOOSE\")\n",
    "                loose += 1\n",
    "print(\"WIN =\",win,\"\\nLOOSE =\",loose)"
   ]
  },
  {
   "cell_type": "code",
   "execution_count": 35,
   "metadata": {},
   "outputs": [
    {
     "name": "stdout",
     "output_type": "stream",
     "text": [
      "WIN\n",
      "WIN\n",
      "WIN\n",
      "LOOSE\n",
      "WIN\n",
      "WIN = 4 \n",
      "LOOSE = 1\n"
     ]
    }
   ],
   "source": [
    "##vérifie le résultat des game avec l'ID du match et le PUUID du summoner \n",
    "\n",
    "win = 0\n",
    "loose = 0\n",
    "for match_id in matches_id:\n",
    "    match_info = requests.get(\"https://europe.api.riotgames.com/lol/match/v5/matches/\"+ match_id +\"?api_key=\" + api_key).json()\n",
    "    \n",
    "    for player in (match_info['info']['participants']):\n",
    "        if player['puuid'] == puuid_summoner:\n",
    "            if player['win'] == True:\n",
    "                print(\"WIN\")\n",
    "                win += 1\n",
    "            else:\n",
    "                print(\"LOOSE\")\n",
    "                loose += 1\n",
    "print(\"WIN =\",win,\"\\nLOOSE =\",loose)\n",
    "            "
   ]
  },
  {
   "cell_type": "code",
   "execution_count": 46,
   "metadata": {},
   "outputs": [
    {
     "name": "stdout",
     "output_type": "stream",
     "text": [
      "puuid = 7BT9qPlBVWKxbxcDPlXgBTNCyQJgj4Tq4Y0ucZWZS2FBPhzH-ZkF9uUx_FfwxLUuD2Zey0dX9Jk4hw \n",
      "id = fixW7VXZS1rhLOaYStQDxBeo3KEfpUzuUi_cJ6Sd7PAx5CE\n",
      "MASTER I  :  394\n"
     ]
    }
   ],
   "source": [
    "## game 13:38\n",
    "\n",
    "data_summoner = requests.get('https://euw1.api.riotgames.com/lol/summoner/v4/summoners/by-name/'+ 'Rhοbalas PXXL' +'?api_key='+api_key).json()\n",
    "puuid_summoner = data_summoner.get(\"puuid\")\n",
    "id_summoner = data_summoner.get(\"id\")\n",
    "\n",
    "print(\"puuid =\", puuid_summoner, \"\\nid =\", id_summoner)\n",
    "\n",
    "## récupère les matchs (les derniers) du summoner (ici 5 matchs)\n",
    "## ressource utile les ID des queues : https://static.developer.riotgames.com/docs/lol/queues.json\n",
    "## récupère la division, le tier et les LP du compte\n",
    "\n",
    "matches_id = requests.get('https://europe.api.riotgames.com/lol/match/v5/matches/by-puuid/'+ puuid_summoner +'/ids?queue='+'420'+'&start=0&count=40&api_key='+api_key).json()\n",
    "data_rank = requests.get('https://euw1.api.riotgames.com/lol/league/v4/entries/by-summoner/'+ id_summoner +'?api_key='+api_key).json()\n",
    "print(data_rank[0]['tier'],data_rank[0]['rank'],\" : \",data_rank[0]['leaguePoints']) \n"
   ]
  },
  {
   "cell_type": "code",
   "execution_count": 47,
   "metadata": {},
   "outputs": [
    {
     "name": "stdout",
     "output_type": "stream",
     "text": [
      "MASTER I  :  418\n"
     ]
    }
   ],
   "source": [
    "## récupère puis stocke le PUUID du summoner\n",
    "\n",
    "data_summoner = requests.get('https://euw1.api.riotgames.com/lol/summoner/v4/summoners/by-name/'+ 'Rhοbalas PXXL' +'?api_key='+api_key).json()\n",
    "puuid_summoner = data_summoner.get(\"puuid\")\n",
    "id_summoner = data_summoner.get(\"id\")\n",
    "#print(\"puuid =\", puuid_summoner, \"\\nid =\", id_summoner)\n",
    "\n",
    "## récupère les matchs (les derniers) du summoner (ici 5 matchs)\n",
    "## ressource utile les ID des queues : https://static.developer.riotgames.com/docs/lol/queues.json\n",
    "## récupère la division, le tier et les LP du compte\n",
    "\n",
    "matches_id = requests.get('https://europe.api.riotgames.com/lol/match/v5/matches/by-puuid/'+ puuid_summoner +'/ids?queue='+'420'+'&start=0&count=40&api_key='+api_key).json()\n",
    "data_rank = requests.get('https://euw1.api.riotgames.com/lol/league/v4/entries/by-summoner/'+ id_summoner +'?api_key='+api_key).json()\n",
    "print(data_rank[0]['tier'],data_rank[0]['rank'],\" : \",data_rank[0]['leaguePoints']) \n"
   ]
  }
 ],
 "metadata": {
  "kernelspec": {
   "display_name": "Python 3",
   "language": "python",
   "name": "python3"
  },
  "language_info": {
   "codemirror_mode": {
    "name": "ipython",
    "version": 3
   },
   "file_extension": ".py",
   "mimetype": "text/x-python",
   "name": "python",
   "nbconvert_exporter": "python",
   "pygments_lexer": "ipython3",
   "version": "3.10.10"
  },
  "orig_nbformat": 4,
  "vscode": {
   "interpreter": {
    "hash": "c59af9261b624e332de6bd3da01cf174f757b5c645fe4791478215dc0e304c87"
   }
  }
 },
 "nbformat": 4,
 "nbformat_minor": 2
}
