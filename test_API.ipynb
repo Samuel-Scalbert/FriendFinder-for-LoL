{
 "cells": [
  {
   "cell_type": "code",
   "execution_count": 27,
   "metadata": {},
   "outputs": [],
   "source": [
    "api_key = \"RGAPI-11c8885f-7b92-4e0c-b084-b457e7398203\""
   ]
  },
  {
   "cell_type": "code",
   "execution_count": 3,
   "metadata": {},
   "outputs": [],
   "source": [
    "import requests\n"
   ]
  },
  {
   "cell_type": "code",
   "execution_count": 163,
   "metadata": {},
   "outputs": [],
   "source": [
    "#test de converteur de nombre romain en int \n",
    "class roman_to_int(object):\n",
    "   def romanToInt(self, s):\n",
    "      \"\"\"\n",
    "      :type s: str\n",
    "      :rtype: int\n",
    "      \"\"\"\n",
    "      roman = {'I':1,'V':5,'X':10,'L':50,'C':100,'D':500,'M':1000,'IV':4,'IX':9,'XL':40,'XC':90,'CD':400,'CM':900}\n",
    "      i = 0\n",
    "      num = 0\n",
    "      while i < len(s):\n",
    "         if i+1<len(s) and s[i:i+2] in roman:\n",
    "            num+=roman[s[i:i+2]]\n",
    "            i+=2\n",
    "         else:\n",
    "            #print(i)\n",
    "            num+=roman[s[i]]\n",
    "            i+=1\n",
    "      return num\n"
   ]
  },
  {
   "cell_type": "code",
   "execution_count": 164,
   "metadata": {},
   "outputs": [
    {
     "name": "stdout",
     "output_type": "stream",
     "text": [
      "SaintLoutr SILVER III 54 LP\n",
      "Draeknof GOLD III 25 LP\n",
      "Haukeas Grémory GOLD III 15 LP\n",
      "Caio73 BRONZE I 33 LP\n",
      "charlos92604 BRONZE II 52 LP\n",
      "7689000 BRONZE IV 0 LP\n",
      "Alrsay GOLD II 0 LP\n",
      "No data / No SOLO Q for this account : TheK1ngPotato\n",
      "Blarckful SILVER II 56 LP\n",
      "[('SaintLoutr', 'SILVER', 3, 54), ('Draeknof', 'GOLD', 3, 25), ('Haukeas Grémory', 'GOLD', 3, 15), ('Caio73', 'BRONZE', 1, 33), ('charlos92604', 'BRONZE', 2, 52), ('7689000', 'BRONZE', 4, 0), ('Alrsay', 'GOLD', 2, 0), ('TheK1ngPotato', 'none', '0', '0'), ('Blarckful', 'SILVER', 2, 56)]\n"
     ]
    }
   ],
   "source": [
    "## récupère puis stocke le PUUID du summoner\n",
    "## toujours besoin du convertisseur de chiffre romain\n",
    "\n",
    "def ranking_information (summoner_list_name:list):\n",
    "    global list_summoner_rank\n",
    "    list_summoner_rank = []\n",
    "\n",
    "    for summoner in summoner_list_name:\n",
    "        data_summoner = requests.get('https://euw1.api.riotgames.com/lol/summoner/v4/summoners/by-name/'+ summoner +'?api_key='+api_key).json()\n",
    "        if data_summoner is not None and \"id\" in data_summoner:\n",
    "            id_summoner = data_summoner.get(\"id\")\n",
    "            puuid_summoner = data_summoner.get(\"puuid\")\n",
    "            #print(puuid_summoner,id_summoner)\n",
    "  \n",
    "            ## récupère les matchs (les derniers) du summoner (ici 5 matchs)\n",
    "            ## ressource utile les ID des queues : https://static.developer.riotgames.com/docs/lol/queues.json\n",
    "            ## récupère la division, le tier et les LP du compte\n",
    "            \n",
    "            data_rank = requests.get('https://euw1.api.riotgames.com/lol/league/v4/entries/by-summoner/'+ id_summoner +'?api_key='+api_key).json()\n",
    "            \n",
    "            presence_of_soloq_data = False\n",
    "            for data_SOLOQ in data_rank:\n",
    "                #if 'RANKED_SOLO_5x5' in data_SOLOQ['queueType']:\n",
    "                if data_SOLOQ['queueType'] == \"RANKED_SOLO_5x5\":\n",
    "                    print(summoner,data_SOLOQ['tier'],data_SOLOQ['rank'],data_SOLOQ['leaguePoints'], \"LP\")\n",
    "                    rank = roman_to_int().romanToInt(data_SOLOQ['rank'])  \n",
    "                    list_summoner_rank.append((summoner,data_SOLOQ['tier'],rank,data_SOLOQ['leaguePoints']))\n",
    "                    presence_of_soloq_data = True\n",
    "            if not presence_of_soloq_data:\n",
    "                print(f\"No data / No SOLO Q for this account : {summoner}\")\n",
    "                list_summoner_rank.append((summoner,\"none\",\"0\", \"0\"))\n",
    "        else:\n",
    "            print(f\"Failed to retrieve data for summoner {summoner}\")\n",
    "            \n",
    "summoner_list = [\"SaintLoutr\",\"Draeknof\",\"Haukeas Grémory\",\"Caio73\",\"charlos92604\",\"7689000\",\"Alrsay\",\"TheK1ngPotato\",\"Blarckful\"]\n",
    "#summoner_list = [\"SaintLoutr\",\"TheK1ngPotato\",\"Blarckful\"]\n",
    "\n",
    "ranking_information(summoner_list)\n",
    "print(list_summoner_rank)\n",
    "\n"
   ]
  },
  {
   "cell_type": "code",
   "execution_count": 143,
   "metadata": {},
   "outputs": [
    {
     "name": "stdout",
     "output_type": "stream",
     "text": [
      "SaintLoutr\n",
      "LOOSE\n",
      "Draeknof\n",
      "LOOSE\n",
      "Haukeas Grémory\n",
      "LOOSE\n"
     ]
    }
   ],
   "source": [
    "##vérifie le résultat des game avec l'ID du match et le PUUID du summoner \n",
    "def result_match (summoner_list):\n",
    "    \n",
    "    for summoner in summoner_list:\n",
    "        data_summoner = requests.get('https://euw1.api.riotgames.com/lol/summoner/v4/summoners/by-name/'+ summoner +'?api_key='+api_key).json()\n",
    "        puuid_summoner = data_summoner.get(\"puuid\")\n",
    "        matches_id = requests.get('https://europe.api.riotgames.com/lol/match/v5/matches/by-puuid/'+ puuid_summoner +'/ids?queue='+'420'+'&start=0&count=1&api_key='+api_key).json()\n",
    "        print(summoner)\n",
    "\n",
    "        \n",
    "        for match_id in matches_id:\n",
    "            match_info = requests.get(\"https://europe.api.riotgames.com/lol/match/v5/matches/\"+ match_id +\"?api_key=\" + api_key).json()\n",
    "            for player in (match_info['info']['participants']):\n",
    "                if player['puuid'] == puuid_summoner:\n",
    "                    if player['win'] == True:\n",
    "                        print(\"WIN\")\n",
    "                    else:\n",
    "                        print(\"LOOSE\")\n",
    "                \n",
    "    list_player = []\n",
    "\n",
    "summoner_list = [\"SaintLoutr\",\"Draeknof\",\"Haukeas Grémory\"]\n",
    "result_match(summoner_list)"
   ]
  },
  {
   "cell_type": "code",
   "execution_count": 166,
   "metadata": {},
   "outputs": [
    {
     "name": "stdout",
     "output_type": "stream",
     "text": [
      "Connexion réussie à SQLite\n",
      "Enregistrement inséré avec succès dans la table leaderboard\n",
      "Connexion SQLite est fermée\n",
      "Connexion réussie à SQLite\n",
      "Enregistrement inséré avec succès dans la table leaderboard\n",
      "Connexion SQLite est fermée\n",
      "Connexion réussie à SQLite\n",
      "Enregistrement inséré avec succès dans la table leaderboard\n",
      "Connexion SQLite est fermée\n",
      "Connexion réussie à SQLite\n",
      "Enregistrement inséré avec succès dans la table leaderboard\n",
      "Connexion SQLite est fermée\n",
      "Connexion réussie à SQLite\n",
      "Enregistrement inséré avec succès dans la table leaderboard\n",
      "Connexion SQLite est fermée\n",
      "Connexion réussie à SQLite\n",
      "Enregistrement inséré avec succès dans la table leaderboard\n",
      "Connexion SQLite est fermée\n",
      "Connexion réussie à SQLite\n",
      "Enregistrement inséré avec succès dans la table leaderboard\n",
      "Connexion SQLite est fermée\n",
      "Connexion réussie à SQLite\n",
      "Enregistrement inséré avec succès dans la table leaderboard\n",
      "Connexion SQLite est fermée\n",
      "Connexion réussie à SQLite\n",
      "Enregistrement inséré avec succès dans la table leaderboard\n",
      "Connexion SQLite est fermée\n"
     ]
    }
   ],
   "source": [
    "#ajout des données de rank des compte dans une base de données\n",
    "\n",
    "import sqlite3\n",
    "\n",
    "list_summoner_rank = [('SaintLoutr', 'SILVER', 3, 54), ('Draeknof', 'GOLD', 3, 25), ('Haukeas Grémory', 'GOLD', 3, 15), ('Caio73', 'BRONZE', 1, 33), ('charlos92604', 'BRONZE', 2, 52), ('7689000', 'BRONZE', 4, 0), ('Alrsay', 'GOLD', 2, 0), ('TheK1ngPotato', 'none', '0', '0'), ('Blarckful', 'SILVER', 2, 56)]\n",
    "\n",
    "def insert_into_leaderboard(SummonerName, Tier, Rank, LP):\n",
    "  try:\n",
    "    conn = sqlite3.connect('leaderboard.db')\n",
    "    cur = conn.cursor()\n",
    "    print(\"Connexion réussie à SQLite\")\n",
    "    sql = \"INSERT INTO leaderboard (SummonerName, Tier, Rank, LP) VALUES (?, ?, ?, ?)\"\n",
    "    value = (SummonerName, Tier, Rank, LP)\n",
    "    cur.execute(sql, value)\n",
    "    conn.commit()\n",
    "    print(\"Enregistrement inséré avec succès dans la table leaderboard\")\n",
    "    cur.close()\n",
    "    conn.close()\n",
    "    print(\"Connexion SQLite est fermée\")\n",
    "  except sqlite3.Error as error:\n",
    "    print(\"Erreur lors de l'insertion dans la table leaderboard\", error)\n",
    "\n",
    "for summoner in list_summoner_rank:\n",
    "    SummonerName, Tier, Rank, LP = summoner\n",
    "    insert_into_leaderboard(SummonerName, Tier, Rank, LP)"
   ]
  },
  {
   "cell_type": "code",
   "execution_count": null,
   "metadata": {},
   "outputs": [],
   "source": [
    "#suppresion de la table\n",
    "\n",
    "try:\n",
    "   conn = sqlite3.connect('leaderboard.db')\n",
    "   cur = conn.cursor()\n",
    "   print(\"Connexion réussie à SQLite\")\n",
    "   cur.execute(\"delete from leaderboard\")\n",
    "   conn.commit()\n",
    "   print(\"leaderboard supprimé\")\n",
    "   cur.close()\n",
    "   conn.close()\n",
    "   print(\"Connexion SQLite est fermée\")\n",
    "except sqlite3.Error as error:\n",
    "   print(\"Erreur \", error)"
   ]
  },
  {
   "cell_type": "code",
   "execution_count": 170,
   "metadata": {},
   "outputs": [
    {
     "name": "stdout",
     "output_type": "stream",
     "text": [
      "Connexion réussie à SQLite\n",
      "leaderboard sorted\n",
      "Connexion SQLite est fermée\n"
     ]
    }
   ],
   "source": [
    "#sorting de la liste\n",
    "\n",
    "try:\n",
    "   conn = sqlite3.connect('leaderboard.db')\n",
    "   cur = conn.cursor()\n",
    "   print(\"Connexion réussie à SQLite\")\n",
    "   cur.execute(\"SELECT *FROM leaderboard ORDER BY CASE WHEN tier = 'CHALLENGER' THEN 1 WHEN tier = 'GRANDMASTER' THEN 2 WHEN tier = 'MASTER' THEN 3 WHEN tier = 'DIAMOND' THEN 4 WHEN tier = 'PLATINIUM' THEN 5 WHEN tier = 'GOLD' THEN 6 WHEN tier = 'SILVER' THEN 7 WHEN tier = 'BRONZE' THEN 8 WHEN tier = 'IRON' THEN 9 ELSE 10 END,Rank asc,lp desc;\")\n",
    "   conn.commit()\n",
    "   print(\"leaderboard sorted\")\n",
    "   cur.close()\n",
    "   conn.close()\n",
    "   print(\"Connexion SQLite est fermée\")\n",
    "except sqlite3.Error as error:\n",
    "   print(\"Erreur \", error)"
   ]
  }
 ],
 "metadata": {
  "kernelspec": {
   "display_name": "Python 3",
   "language": "python",
   "name": "python3"
  },
  "language_info": {
   "codemirror_mode": {
    "name": "ipython",
    "version": 3
   },
   "file_extension": ".py",
   "mimetype": "text/x-python",
   "name": "python",
   "nbconvert_exporter": "python",
   "pygments_lexer": "ipython3",
   "version": "3.10.10"
  },
  "orig_nbformat": 4,
  "vscode": {
   "interpreter": {
    "hash": "c59af9261b624e332de6bd3da01cf174f757b5c645fe4791478215dc0e304c87"
   }
  }
 },
 "nbformat": 4,
 "nbformat_minor": 2
}
