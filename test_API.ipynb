{
 "cells": [
  {
   "cell_type": "code",
   "execution_count": 15,
   "metadata": {},
   "outputs": [],
   "source": [
    "api_key = \"RGAPI-bd4e2ba3-4dc8-460d-9259-7955750120ff\""
   ]
  },
  {
   "cell_type": "code",
   "execution_count": 13,
   "metadata": {},
   "outputs": [],
   "source": [
    "import requests"
   ]
  },
  {
   "cell_type": "code",
   "execution_count": 38,
   "metadata": {},
   "outputs": [
    {
     "name": "stdout",
     "output_type": "stream",
     "text": [
      "GOLD IV 75 LP\n",
      " ['EUW1_6292165654']\n"
     ]
    }
   ],
   "source": [
    "## récupère puis stocke le PUUID du summoner\n",
    "\n",
    "data_summoner = requests.get('https://euw1.api.riotgames.com/lol/summoner/v4/summoners/by-name/'+ 'Draeknof' +'?api_key='+api_key).json()\n",
    "puuid_summoner = data_summoner.get(\"puuid\")\n",
    "id_summoner = data_summoner.get(\"id\")\n",
    "#print(\"puuid =\", puuid_summoner, \"\\nid =\", id_summoner)\n",
    "\n",
    "## récupère les matchs (les derniers) du summoner (ici 5 matchs)\n",
    "## ressource utile les ID des queues : https://static.developer.riotgames.com/docs/lol/queues.json\n",
    "## récupère la division, le tier et les LP du compte\n",
    "\n",
    "matches_id = requests.get('https://europe.api.riotgames.com/lol/match/v5/matches/by-puuid/'+ puuid_summoner +'/ids?queue='+'420'+'&start=0&count=1&api_key='+api_key).json()\n",
    "data_rank = requests.get('https://euw1.api.riotgames.com/lol/league/v4/entries/by-summoner/'+ id_summoner +'?api_key='+api_key).json()\n",
    "\n",
    "for data_SOLOQ in data_rank:\n",
    "    if data_SOLOQ['queueType'] == 'RANKED_SOLO_5x5':\n",
    "        data_rank=data_SOLOQ\n",
    "\n",
    "print(data_rank['tier'],data_rank['rank'],data_rank['leaguePoints'], \"LP\\n\", matches_id) \n",
    "\n",
    "\n"
   ]
  },
  {
   "cell_type": "code",
   "execution_count": 39,
   "metadata": {},
   "outputs": [
    {
     "name": "stdout",
     "output_type": "stream",
     "text": [
      "LOOSE\n",
      "WIN = 0 \n",
      "LOOSE = 1\n"
     ]
    }
   ],
   "source": [
    "##vérifie le résultat des game avec l'ID du match et le PUUID du summoner \n",
    "\n",
    "win = 0\n",
    "loose = 0\n",
    "for match_id in matches_id:\n",
    "    match_info = requests.get(\"https://europe.api.riotgames.com/lol/match/v5/matches/\"+ match_id +\"?api_key=\" + api_key).json()\n",
    "    list_player = []\n",
    "    for player in (match_info['metadata']['participants']):\n",
    "        list_player.append(player)\n",
    "    position_player = list_player.index(puuid_summoner)\n",
    "    if match_info['info']['participants'][position_player]['puuid'] == puuid_summoner:\n",
    "            if match_info['info']['participants'][position_player]['win'] == True:\n",
    "                print(\"WIN\")\n",
    "                win += 1\n",
    "            else:\n",
    "                print(\"LOOSE\")\n",
    "                loose += 1\n",
    "print(\"WIN =\",win,\"\\nLOOSE =\",loose)"
   ]
  },
  {
   "cell_type": "code",
   "execution_count": 42,
   "metadata": {},
   "outputs": [
    {
     "name": "stdout",
     "output_type": "stream",
     "text": [
      "LOOSE\n"
     ]
    }
   ],
   "source": [
    "##vérifie le résultat des game avec l'ID du match et le PUUID du summoner \n",
    "\n",
    "for match_id in matches_id:\n",
    "    match_info = requests.get(\"https://europe.api.riotgames.com/lol/match/v5/matches/\"+ match_id +\"?api_key=\" + api_key).json()\n",
    "    \n",
    "    for player in (match_info['info']['participants']):\n",
    "        if player['puuid'] == puuid_summoner:\n",
    "            if player['win'] == True:\n",
    "                print(\"WIN\")\n",
    "            else:\n",
    "                print(\"LOOSE\")\n",
    "\n",
    "            "
   ]
  },
  {
   "cell_type": "code",
   "execution_count": 1,
   "metadata": {},
   "outputs": [
    {
     "name": "stdout",
     "output_type": "stream",
     "text": [
      "Making call: https://ddragon.leagueoflegends.com/realms/na.json\n",
      "Making call: https://na1.api.riotgames.com/lol/summoner/v4/summoners/by-name/Kalturi\n"
     ]
    },
    {
     "ename": "KeyError",
     "evalue": "401",
     "output_type": "error",
     "traceback": [
      "\u001b[1;31m---------------------------------------------------------------------------\u001b[0m",
      "\u001b[1;31mAttributeError\u001b[0m                            Traceback (most recent call last)",
      "File \u001b[1;32mc:\\Users\\samsc\\AppData\\Local\\Programs\\Python\\Python310\\lib\\site-packages\\merakicommons\\ghost.py:41\u001b[0m, in \u001b[0;36mghost_load_on.<locals>.decorator.<locals>.wrapper\u001b[1;34m(*args, **kwargs)\u001b[0m\n\u001b[0;32m     40\u001b[0m \u001b[39mtry\u001b[39;00m:\n\u001b[1;32m---> 41\u001b[0m     \u001b[39mreturn\u001b[39;00m method(\u001b[39m*\u001b[39margs, \u001b[39m*\u001b[39m\u001b[39m*\u001b[39mkwargs)\n\u001b[0;32m     42\u001b[0m \u001b[39mexcept\u001b[39;00m errors \u001b[39mas\u001b[39;00m error:\n",
      "File \u001b[1;32mc:\\Users\\samsc\\AppData\\Local\\Programs\\Python\\Python310\\lib\\site-packages\\cassiopeia\\core\\summoner.py:179\u001b[0m, in \u001b[0;36mSummoner.id\u001b[1;34m(self)\u001b[0m\n\u001b[0;32m    176\u001b[0m \u001b[39m@CassiopeiaGhost\u001b[39m\u001b[39m.\u001b[39mproperty(SummonerData)\n\u001b[0;32m    177\u001b[0m \u001b[39m@ghost_load_on\u001b[39m\n\u001b[0;32m    178\u001b[0m \u001b[39mdef\u001b[39;00m \u001b[39mid\u001b[39m(\u001b[39mself\u001b[39m) \u001b[39m-\u001b[39m\u001b[39m>\u001b[39m \u001b[39mstr\u001b[39m:\n\u001b[1;32m--> 179\u001b[0m     \u001b[39mreturn\u001b[39;00m \u001b[39mself\u001b[39;49m\u001b[39m.\u001b[39;49m_data[SummonerData]\u001b[39m.\u001b[39;49mid\n",
      "\u001b[1;31mAttributeError\u001b[0m: 'SummonerData' object has no attribute 'id'",
      "\nDuring handling of the above exception, another exception occurred:\n",
      "\u001b[1;31mGhostLoadingRequiredError\u001b[0m                 Traceback (most recent call last)",
      "File \u001b[1;32mc:\\Users\\samsc\\AppData\\Local\\Programs\\Python\\Python310\\lib\\site-packages\\merakicommons\\ghost.py:87\u001b[0m, in \u001b[0;36mGhost.__property.__get__\u001b[1;34m(self, obj, obj_type)\u001b[0m\n\u001b[0;32m     86\u001b[0m \u001b[39mtry\u001b[39;00m:\n\u001b[1;32m---> 87\u001b[0m     \u001b[39mreturn\u001b[39;00m \u001b[39mself\u001b[39;49m\u001b[39m.\u001b[39;49mfget(obj)\n\u001b[0;32m     88\u001b[0m \u001b[39mexcept\u001b[39;00m GhostLoadingRequiredError:\n",
      "File \u001b[1;32mc:\\Users\\samsc\\AppData\\Local\\Programs\\Python\\Python310\\lib\\site-packages\\merakicommons\\ghost.py:43\u001b[0m, in \u001b[0;36mghost_load_on.<locals>.decorator.<locals>.wrapper\u001b[1;34m(*args, **kwargs)\u001b[0m\n\u001b[0;32m     42\u001b[0m \u001b[39mexcept\u001b[39;00m errors \u001b[39mas\u001b[39;00m error:\n\u001b[1;32m---> 43\u001b[0m     \u001b[39mraise\u001b[39;00m GhostLoadingRequiredError(\u001b[39mstr\u001b[39m(error))\n",
      "\u001b[1;31mGhostLoadingRequiredError\u001b[0m: 'SummonerData' object has no attribute 'id'",
      "\nDuring handling of the above exception, another exception occurred:\n",
      "\u001b[1;31mHTTPError\u001b[0m                                 Traceback (most recent call last)",
      "File \u001b[1;32mc:\\Users\\samsc\\AppData\\Local\\Programs\\Python\\Python310\\lib\\site-packages\\cassiopeia\\datastores\\riotapi\\common.py:334\u001b[0m, in \u001b[0;36mRiotAPIRequest.__call__\u001b[1;34m(self)\u001b[0m\n\u001b[0;32m    333\u001b[0m \u001b[39mtry\u001b[39;00m:\n\u001b[1;32m--> 334\u001b[0m     body, response_headers \u001b[39m=\u001b[39m \u001b[39mself\u001b[39;49m\u001b[39m.\u001b[39;49mservice\u001b[39m.\u001b[39;49m_client\u001b[39m.\u001b[39;49mget(\n\u001b[0;32m    335\u001b[0m         url\u001b[39m=\u001b[39;49m\u001b[39mself\u001b[39;49m\u001b[39m.\u001b[39;49murl,\n\u001b[0;32m    336\u001b[0m         parameters\u001b[39m=\u001b[39;49m\u001b[39mself\u001b[39;49m\u001b[39m.\u001b[39;49mparameters,\n\u001b[0;32m    337\u001b[0m         headers\u001b[39m=\u001b[39;49m\u001b[39mself\u001b[39;49m\u001b[39m.\u001b[39;49mservice\u001b[39m.\u001b[39;49m_headers,\n\u001b[0;32m    338\u001b[0m         rate_limiters\u001b[39m=\u001b[39;49m[\u001b[39mself\u001b[39;49m\u001b[39m.\u001b[39;49mapp_limiter, \u001b[39mself\u001b[39;49m\u001b[39m.\u001b[39;49mmethod_limiter],\n\u001b[0;32m    339\u001b[0m         connection\u001b[39m=\u001b[39;49m\u001b[39mself\u001b[39;49m\u001b[39m.\u001b[39;49mconnection,\n\u001b[0;32m    340\u001b[0m     )\n\u001b[0;32m    341\u001b[0m     \u001b[39mself\u001b[39m\u001b[39m.\u001b[39mservice\u001b[39m.\u001b[39m_adjust_rate_limiters_from_headers(\n\u001b[0;32m    342\u001b[0m         app_limiter\u001b[39m=\u001b[39m\u001b[39mself\u001b[39m\u001b[39m.\u001b[39mapp_limiter,\n\u001b[0;32m    343\u001b[0m         method_limiter\u001b[39m=\u001b[39m\u001b[39mself\u001b[39m\u001b[39m.\u001b[39mmethod_limiter,\n\u001b[0;32m    344\u001b[0m         response_headers\u001b[39m=\u001b[39mresponse_headers,\n\u001b[0;32m    345\u001b[0m     )\n",
      "File \u001b[1;32mc:\\Users\\samsc\\AppData\\Local\\Programs\\Python\\Python310\\lib\\site-packages\\cassiopeia\\datastores\\common.py:248\u001b[0m, in \u001b[0;36mHTTPClient.get\u001b[1;34m(self, url, parameters, headers, rate_limiters, connection, encode_parameters)\u001b[0m\n\u001b[0;32m    247\u001b[0m \u001b[39mif\u001b[39;00m r\u001b[39m.\u001b[39mstatus_code \u001b[39m>\u001b[39m\u001b[39m=\u001b[39m \u001b[39m400\u001b[39m:\n\u001b[1;32m--> 248\u001b[0m     \u001b[39mraise\u001b[39;00m HTTPError(r\u001b[39m.\u001b[39mreason, r\u001b[39m.\u001b[39mstatus_code, response_headers)\n\u001b[0;32m    250\u001b[0m content_type \u001b[39m=\u001b[39m response_headers\u001b[39m.\u001b[39mget(\n\u001b[0;32m    251\u001b[0m     \u001b[39m\"\u001b[39m\u001b[39mContent-Type\u001b[39m\u001b[39m\"\u001b[39m, \u001b[39m\"\u001b[39m\u001b[39mapplication/octet-stream\u001b[39m\u001b[39m\"\u001b[39m\n\u001b[0;32m    252\u001b[0m )\u001b[39m.\u001b[39mupper()\n",
      "\u001b[1;31mHTTPError\u001b[0m: Unauthorized",
      "\nDuring handling of the above exception, another exception occurred:\n",
      "\u001b[1;31mKeyError\u001b[0m                                  Traceback (most recent call last)",
      "Cell \u001b[1;32mIn[1], line 30\u001b[0m\n\u001b[0;32m     26\u001b[0m     \u001b[39mprint\u001b[39m([cm\u001b[39m.\u001b[39mchampion\u001b[39m.\u001b[39mname \u001b[39mfor\u001b[39;00m cm \u001b[39min\u001b[39;00m pro])\n\u001b[0;32m     29\u001b[0m \u001b[39mif\u001b[39;00m \u001b[39m__name__\u001b[39m \u001b[39m==\u001b[39m \u001b[39m\"\u001b[39m\u001b[39m__main__\u001b[39m\u001b[39m\"\u001b[39m:\n\u001b[1;32m---> 30\u001b[0m     print_champion_mastery()\n",
      "Cell \u001b[1;32mIn[1], line 13\u001b[0m, in \u001b[0;36mprint_champion_mastery\u001b[1;34m()\u001b[0m\n\u001b[0;32m     11\u001b[0m karma \u001b[39m=\u001b[39m Champion(name\u001b[39m=\u001b[39m\u001b[39m\"\u001b[39m\u001b[39mKarma\u001b[39m\u001b[39m\"\u001b[39m, \u001b[39mid\u001b[39m\u001b[39m=\u001b[39m\u001b[39m43\u001b[39m, region\u001b[39m=\u001b[39m\u001b[39m\"\u001b[39m\u001b[39mNA\u001b[39m\u001b[39m\"\u001b[39m)\n\u001b[0;32m     12\u001b[0m \u001b[39m# cm = ChampionMastery(champion=karma, summoner=me, region=\"NA\")\u001b[39;00m\n\u001b[1;32m---> 13\u001b[0m cm \u001b[39m=\u001b[39m cass\u001b[39m.\u001b[39;49mget_champion_mastery(champion\u001b[39m=\u001b[39;49mkarma, summoner\u001b[39m=\u001b[39;49mme, region\u001b[39m=\u001b[39;49m\u001b[39m\"\u001b[39;49m\u001b[39mNA\u001b[39;49m\u001b[39m\"\u001b[39;49m)\n\u001b[0;32m     14\u001b[0m \u001b[39mprint\u001b[39m(\u001b[39m\"\u001b[39m\u001b[39mChampion ID:\u001b[39m\u001b[39m\"\u001b[39m, cm\u001b[39m.\u001b[39mchampion\u001b[39m.\u001b[39mid)\n\u001b[0;32m     15\u001b[0m \u001b[39mprint\u001b[39m(\u001b[39m\"\u001b[39m\u001b[39mMastery points:\u001b[39m\u001b[39m\"\u001b[39m, cm\u001b[39m.\u001b[39mpoints)\n",
      "File \u001b[1;32mc:\\Users\\samsc\\AppData\\Local\\Programs\\Python\\Python310\\lib\\site-packages\\cassiopeia\\cassiopeia.py:164\u001b[0m, in \u001b[0;36mget_champion_mastery\u001b[1;34m(summoner, champion, region)\u001b[0m\n\u001b[0;32m    159\u001b[0m \u001b[39mdef\u001b[39;00m \u001b[39mget_champion_mastery\u001b[39m(\n\u001b[0;32m    160\u001b[0m     summoner: Summoner,\n\u001b[0;32m    161\u001b[0m     champion: Union[Champion, \u001b[39mint\u001b[39m, \u001b[39mstr\u001b[39m],\n\u001b[0;32m    162\u001b[0m     region: Union[Region, \u001b[39mstr\u001b[39m] \u001b[39m=\u001b[39m \u001b[39mNone\u001b[39;00m,\n\u001b[0;32m    163\u001b[0m ) \u001b[39m-\u001b[39m\u001b[39m>\u001b[39m ChampionMastery:\n\u001b[1;32m--> 164\u001b[0m     \u001b[39mreturn\u001b[39;00m ChampionMastery(champion\u001b[39m=\u001b[39;49mchampion, summoner\u001b[39m=\u001b[39;49msummoner, region\u001b[39m=\u001b[39;49mregion)\n",
      "File \u001b[1;32mc:\\Users\\samsc\\AppData\\Local\\Programs\\Python\\Python310\\lib\\site-packages\\cassiopeia\\core\\common.py:191\u001b[0m, in \u001b[0;36mGetFromPipeline.__call__\u001b[1;34m(cls, *args, **kwargs)\u001b[0m\n\u001b[0;32m    189\u001b[0m \u001b[39mdef\u001b[39;00m \u001b[39m__call__\u001b[39m(\u001b[39mcls\u001b[39m: \u001b[39m\"\u001b[39m\u001b[39mCassiopeiaPipelineObject\u001b[39m\u001b[39m\"\u001b[39m, \u001b[39m*\u001b[39margs, \u001b[39m*\u001b[39m\u001b[39m*\u001b[39mkwargs):\n\u001b[0;32m    190\u001b[0m     pipeline \u001b[39m=\u001b[39m configuration\u001b[39m.\u001b[39msettings\u001b[39m.\u001b[39mpipeline\n\u001b[1;32m--> 191\u001b[0m     query \u001b[39m=\u001b[39m \u001b[39mcls\u001b[39m\u001b[39m.\u001b[39m__get_query_from_kwargs__(\u001b[39m*\u001b[39m\u001b[39m*\u001b[39mkwargs)\n\u001b[0;32m    192\u001b[0m     \u001b[39mif\u001b[39;00m (\n\u001b[0;32m    193\u001b[0m         \u001b[39mhasattr\u001b[39m(\u001b[39mcls\u001b[39m, \u001b[39m\"\u001b[39m\u001b[39mversion\u001b[39m\u001b[39m\"\u001b[39m)\n\u001b[0;32m    194\u001b[0m         \u001b[39mand\u001b[39;00m query\u001b[39m.\u001b[39mget(\u001b[39m\"\u001b[39m\u001b[39mversion\u001b[39m\u001b[39m\"\u001b[39m, \u001b[39mNone\u001b[39;00m) \u001b[39mis\u001b[39;00m \u001b[39mNone\u001b[39;00m\n\u001b[0;32m    195\u001b[0m         \u001b[39mand\u001b[39;00m \u001b[39mcls\u001b[39m\u001b[39m.\u001b[39m\u001b[39m__name__\u001b[39m \u001b[39mnot\u001b[39;00m \u001b[39min\u001b[39;00m [\u001b[39m\"\u001b[39m\u001b[39mRealms\u001b[39m\u001b[39m\"\u001b[39m, \u001b[39m\"\u001b[39m\u001b[39mMatch\u001b[39m\u001b[39m\"\u001b[39m]\n\u001b[0;32m    196\u001b[0m     ):\n\u001b[0;32m    197\u001b[0m         query[\u001b[39m\"\u001b[39m\u001b[39mversion\u001b[39m\u001b[39m\"\u001b[39m] \u001b[39m=\u001b[39m get_latest_version(region\u001b[39m=\u001b[39mquery[\u001b[39m\"\u001b[39m\u001b[39mregion\u001b[39m\u001b[39m\"\u001b[39m], endpoint\u001b[39m=\u001b[39m\u001b[39mNone\u001b[39;00m)\n",
      "File \u001b[1;32mc:\\Users\\samsc\\AppData\\Local\\Programs\\Python\\Python310\\lib\\site-packages\\cassiopeia\\core\\championmastery.py:151\u001b[0m, in \u001b[0;36mChampionMastery.__get_query_from_kwargs__\u001b[1;34m(cls, summoner, champion, region)\u001b[0m\n\u001b[0;32m    149\u001b[0m query \u001b[39m=\u001b[39m {\u001b[39m\"\u001b[39m\u001b[39mregion\u001b[39m\u001b[39m\"\u001b[39m: region}\n\u001b[0;32m    150\u001b[0m \u001b[39mif\u001b[39;00m \u001b[39misinstance\u001b[39m(summoner, Summoner):\n\u001b[1;32m--> 151\u001b[0m     query[\u001b[39m\"\u001b[39m\u001b[39msummoner.id\u001b[39m\u001b[39m\"\u001b[39m] \u001b[39m=\u001b[39m summoner\u001b[39m.\u001b[39;49mid\n\u001b[0;32m    152\u001b[0m \u001b[39melif\u001b[39;00m \u001b[39misinstance\u001b[39m(summoner, \u001b[39mstr\u001b[39m):\n\u001b[0;32m    153\u001b[0m     \u001b[39mif\u001b[39;00m \u001b[39mlen\u001b[39m(summoner) \u001b[39m<\u001b[39m \u001b[39m35\u001b[39m:\n\u001b[0;32m    154\u001b[0m         \u001b[39m# It's a summoner name\u001b[39;00m\n",
      "File \u001b[1;32mc:\\Users\\samsc\\AppData\\Local\\Programs\\Python\\Python310\\lib\\site-packages\\merakicommons\\ghost.py:90\u001b[0m, in \u001b[0;36mGhost.__property.__get__\u001b[1;34m(self, obj, obj_type)\u001b[0m\n\u001b[0;32m     88\u001b[0m \u001b[39mexcept\u001b[39;00m GhostLoadingRequiredError:\n\u001b[0;32m     89\u001b[0m     load_group \u001b[39m=\u001b[39m \u001b[39mself\u001b[39m\u001b[39m.\u001b[39mfget\u001b[39m.\u001b[39m_Ghost__load_group\n\u001b[1;32m---> 90\u001b[0m     obj\u001b[39m.\u001b[39;49m__load__(load_group)\n\u001b[0;32m     91\u001b[0m     obj\u001b[39m.\u001b[39m_Ghost__set_loaded(load_group)\n\u001b[0;32m     93\u001b[0m     \u001b[39mreturn\u001b[39;00m \u001b[39mself\u001b[39m\u001b[39m.\u001b[39mfget(obj)\n",
      "File \u001b[1;32mc:\\Users\\samsc\\AppData\\Local\\Programs\\Python\\Python310\\lib\\site-packages\\cassiopeia\\core\\common.py:272\u001b[0m, in \u001b[0;36mCassiopeiaGhost.__load__\u001b[1;34m(self, load_group, load_groups)\u001b[0m\n\u001b[0;32m    264\u001b[0m \u001b[39mif\u001b[39;00m (\n\u001b[0;32m    265\u001b[0m     \u001b[39mhasattr\u001b[39m(\u001b[39mself\u001b[39m\u001b[39m.\u001b[39m\u001b[39m__class__\u001b[39m, \u001b[39m\"\u001b[39m\u001b[39mversion\u001b[39m\u001b[39m\"\u001b[39m)\n\u001b[0;32m    266\u001b[0m     \u001b[39mand\u001b[39;00m \u001b[39m\"\u001b[39m\u001b[39mversion\u001b[39m\u001b[39m\"\u001b[39m \u001b[39mnot\u001b[39;00m \u001b[39min\u001b[39;00m query\n\u001b[0;32m    267\u001b[0m     \u001b[39mand\u001b[39;00m \u001b[39mself\u001b[39m\u001b[39m.\u001b[39m\u001b[39m__class__\u001b[39m\u001b[39m.\u001b[39m\u001b[39m__name__\u001b[39m \u001b[39mnot\u001b[39;00m \u001b[39min\u001b[39;00m [\u001b[39m\"\u001b[39m\u001b[39mRealms\u001b[39m\u001b[39m\"\u001b[39m, \u001b[39m\"\u001b[39m\u001b[39mMatch\u001b[39m\u001b[39m\"\u001b[39m]\n\u001b[0;32m    268\u001b[0m ):\n\u001b[0;32m    269\u001b[0m     query[\u001b[39m\"\u001b[39m\u001b[39mversion\u001b[39m\u001b[39m\"\u001b[39m] \u001b[39m=\u001b[39m get_latest_version(\n\u001b[0;32m    270\u001b[0m         region\u001b[39m=\u001b[39mquery[\u001b[39m\"\u001b[39m\u001b[39mregion\u001b[39m\u001b[39m\"\u001b[39m], endpoint\u001b[39m=\u001b[39m\u001b[39mNone\u001b[39;00m\n\u001b[0;32m    271\u001b[0m     )\n\u001b[1;32m--> 272\u001b[0m data \u001b[39m=\u001b[39m configuration\u001b[39m.\u001b[39;49msettings\u001b[39m.\u001b[39;49mpipeline\u001b[39m.\u001b[39;49mget(\n\u001b[0;32m    273\u001b[0m     \u001b[39mtype\u001b[39;49m\u001b[39m=\u001b[39;49m\u001b[39mself\u001b[39;49m\u001b[39m.\u001b[39;49m_load_types[load_group], query\u001b[39m=\u001b[39;49mquery\n\u001b[0;32m    274\u001b[0m )\n\u001b[0;32m    275\u001b[0m \u001b[39mself\u001b[39m\u001b[39m.\u001b[39m__load_hook__(load_group, data)\n",
      "File \u001b[1;32mc:\\Users\\samsc\\AppData\\Local\\Programs\\Python\\Python310\\lib\\site-packages\\datapipelines\\pipelines.py:459\u001b[0m, in \u001b[0;36mDataPipeline.get\u001b[1;34m(self, type, query)\u001b[0m\n\u001b[0;32m    457\u001b[0m \u001b[39mfor\u001b[39;00m handler \u001b[39min\u001b[39;00m handlers:\n\u001b[0;32m    458\u001b[0m     \u001b[39mtry\u001b[39;00m:\n\u001b[1;32m--> 459\u001b[0m         \u001b[39mreturn\u001b[39;00m handler\u001b[39m.\u001b[39;49mget(query, context)\n\u001b[0;32m    460\u001b[0m     \u001b[39mexcept\u001b[39;00m NotFoundError:\n\u001b[0;32m    461\u001b[0m         \u001b[39mpass\u001b[39;00m\n",
      "File \u001b[1;32mc:\\Users\\samsc\\AppData\\Local\\Programs\\Python\\Python310\\lib\\site-packages\\datapipelines\\pipelines.py:185\u001b[0m, in \u001b[0;36m_SourceHandler.get\u001b[1;34m(self, query, context)\u001b[0m\n\u001b[0;32m    170\u001b[0m \u001b[39mdef\u001b[39;00m \u001b[39mget\u001b[39m(\u001b[39mself\u001b[39m, query: Mapping[\u001b[39mstr\u001b[39m, Any], context: PipelineContext \u001b[39m=\u001b[39m \u001b[39mNone\u001b[39;00m) \u001b[39m-\u001b[39m\u001b[39m>\u001b[39m T:\n\u001b[0;32m    171\u001b[0m \u001b[39m    \u001b[39m\u001b[39m\"\"\"Gets a query from the data source.\u001b[39;00m\n\u001b[0;32m    172\u001b[0m \n\u001b[0;32m    173\u001b[0m \u001b[39m    1) Extracts the query from the data source.\u001b[39;00m\n\u001b[1;32m   (...)\u001b[0m\n\u001b[0;32m    183\u001b[0m \u001b[39m        The requested object.\u001b[39;00m\n\u001b[0;32m    184\u001b[0m \u001b[39m    \"\"\"\u001b[39;00m\n\u001b[1;32m--> 185\u001b[0m     result \u001b[39m=\u001b[39m \u001b[39mself\u001b[39;49m\u001b[39m.\u001b[39;49m_source\u001b[39m.\u001b[39;49mget(\u001b[39mself\u001b[39;49m\u001b[39m.\u001b[39;49m_source_type, deepcopy(query), context)\n\u001b[0;32m    186\u001b[0m     LOGGER\u001b[39m.\u001b[39minfo(\u001b[39m\"\u001b[39m\u001b[39mGot result \u001b[39m\u001b[39m\\\"\u001b[39;00m\u001b[39m{result}\u001b[39;00m\u001b[39m\\\"\u001b[39;00m\u001b[39m from query \u001b[39m\u001b[39m\\\"\u001b[39;00m\u001b[39m{query}\u001b[39;00m\u001b[39m\\\"\u001b[39;00m\u001b[39m of source \u001b[39m\u001b[39m\\\"\u001b[39;00m\u001b[39m{source}\u001b[39;00m\u001b[39m\\\"\u001b[39;00m\u001b[39m\"\u001b[39m\u001b[39m.\u001b[39mformat(result\u001b[39m=\u001b[39mresult, query\u001b[39m=\u001b[39mquery, source\u001b[39m=\u001b[39m\u001b[39mself\u001b[39m\u001b[39m.\u001b[39m_source))\n\u001b[0;32m    188\u001b[0m     LOGGER\u001b[39m.\u001b[39minfo(\u001b[39m\"\u001b[39m\u001b[39mSending result \u001b[39m\u001b[39m\\\"\u001b[39;00m\u001b[39m{result}\u001b[39;00m\u001b[39m\\\"\u001b[39;00m\u001b[39m to sinks before converting\u001b[39m\u001b[39m\"\u001b[39m\u001b[39m.\u001b[39mformat(result\u001b[39m=\u001b[39mresult))\n",
      "File \u001b[1;32mc:\\Users\\samsc\\AppData\\Local\\Programs\\Python\\Python310\\lib\\site-packages\\datapipelines\\sources.py:120\u001b[0m, in \u001b[0;36mCompositeDataSource.get\u001b[1;34m(self, type, query, context)\u001b[0m\n\u001b[0;32m    118\u001b[0m \u001b[39mfor\u001b[39;00m source \u001b[39min\u001b[39;00m sources:\n\u001b[0;32m    119\u001b[0m     \u001b[39mtry\u001b[39;00m:\n\u001b[1;32m--> 120\u001b[0m         \u001b[39mreturn\u001b[39;00m source\u001b[39m.\u001b[39;49mget(\u001b[39mtype\u001b[39;49m, deepcopy(query), context)\n\u001b[0;32m    121\u001b[0m     \u001b[39mexcept\u001b[39;00m NotFoundError:\n\u001b[0;32m    122\u001b[0m         \u001b[39mcontinue\u001b[39;00m\n",
      "File \u001b[1;32mc:\\Users\\samsc\\AppData\\Local\\Programs\\Python\\Python310\\lib\\site-packages\\datapipelines\\sources.py:69\u001b[0m, in \u001b[0;36mDataSource.dispatch.<locals>.wrapper\u001b[1;34m(self, type, query, context)\u001b[0m\n\u001b[0;32m     67\u001b[0m call \u001b[39m=\u001b[39m dispatcher\u001b[39m.\u001b[39mdispatch(\u001b[39mtype\u001b[39m)\n\u001b[0;32m     68\u001b[0m \u001b[39mtry\u001b[39;00m:\n\u001b[1;32m---> 69\u001b[0m     \u001b[39mreturn\u001b[39;00m call(\u001b[39mself\u001b[39;49m, query, context\u001b[39m=\u001b[39;49mcontext)\n\u001b[0;32m     70\u001b[0m \u001b[39mexcept\u001b[39;00m \u001b[39mTypeError\u001b[39;00m:\n\u001b[0;32m     71\u001b[0m     \u001b[39mraise\u001b[39;00m DataSource\u001b[39m.\u001b[39munsupported(\u001b[39mtype\u001b[39m)\n",
      "File \u001b[1;32mc:\\Users\\samsc\\AppData\\Local\\Programs\\Python\\Python310\\lib\\site-packages\\datapipelines\\queries.py:326\u001b[0m, in \u001b[0;36mvalidate_query.<locals>.wrapper.<locals>.wrapped\u001b[1;34m(self, query, context)\u001b[0m\n\u001b[0;32m    323\u001b[0m     transform(query)\n\u001b[0;32m    325\u001b[0m validator(query)\n\u001b[1;32m--> 326\u001b[0m \u001b[39mreturn\u001b[39;00m method(\u001b[39mself\u001b[39;49m, query, context)\n",
      "File \u001b[1;32mc:\\Users\\samsc\\AppData\\Local\\Programs\\Python\\Python310\\lib\\site-packages\\cassiopeia\\datastores\\riotapi\\summoner.py:86\u001b[0m, in \u001b[0;36mSummonerAPI.get_summoner\u001b[1;34m(self, query, context)\u001b[0m\n\u001b[0;32m     82\u001b[0m \u001b[39mtry\u001b[39;00m:\n\u001b[0;32m     83\u001b[0m     app_limiter, method_limiter \u001b[39m=\u001b[39m \u001b[39mself\u001b[39m\u001b[39m.\u001b[39m_get_rate_limiter(\n\u001b[0;32m     84\u001b[0m         query[\u001b[39m\"\u001b[39m\u001b[39mplatform\u001b[39m\u001b[39m\"\u001b[39m], endpoint\n\u001b[0;32m     85\u001b[0m     )\n\u001b[1;32m---> 86\u001b[0m     data \u001b[39m=\u001b[39m \u001b[39mself\u001b[39;49m\u001b[39m.\u001b[39;49m_get(\n\u001b[0;32m     87\u001b[0m         url, {}, app_limiter\u001b[39m=\u001b[39;49mapp_limiter, method_limiter\u001b[39m=\u001b[39;49mmethod_limiter\n\u001b[0;32m     88\u001b[0m     )\n\u001b[0;32m     89\u001b[0m \u001b[39mexcept\u001b[39;00m APINotFoundError \u001b[39mas\u001b[39;00m error:\n\u001b[0;32m     90\u001b[0m     \u001b[39mraise\u001b[39;00m NotFoundError(\u001b[39mstr\u001b[39m(error)) \u001b[39mfrom\u001b[39;00m \u001b[39merror\u001b[39;00m\n",
      "File \u001b[1;32mc:\\Users\\samsc\\AppData\\Local\\Programs\\Python\\Python310\\lib\\site-packages\\cassiopeia\\datastores\\riotapi\\common.py:253\u001b[0m, in \u001b[0;36mRiotAPIService._get\u001b[1;34m(self, url, parameters, app_limiter, method_limiter, connection)\u001b[0m\n\u001b[0;32m    244\u001b[0m request \u001b[39m=\u001b[39m RiotAPIRequest(\n\u001b[0;32m    245\u001b[0m     service\u001b[39m=\u001b[39m\u001b[39mself\u001b[39m,\n\u001b[0;32m    246\u001b[0m     url\u001b[39m=\u001b[39murl,\n\u001b[1;32m   (...)\u001b[0m\n\u001b[0;32m    250\u001b[0m     connection\u001b[39m=\u001b[39mconnection,\n\u001b[0;32m    251\u001b[0m )\n\u001b[0;32m    252\u001b[0m \u001b[39mtry\u001b[39;00m:\n\u001b[1;32m--> 253\u001b[0m     \u001b[39mreturn\u001b[39;00m request()\n\u001b[0;32m    254\u001b[0m \u001b[39mexcept\u001b[39;00m HTTPError \u001b[39mas\u001b[39;00m error:\n\u001b[0;32m    255\u001b[0m     \u001b[39m# The error handlers didn't work, so raise an appropriate error.\u001b[39;00m\n\u001b[0;32m    256\u001b[0m     new_error_type \u001b[39m=\u001b[39m _ERROR_CODES[error\u001b[39m.\u001b[39mcode]\n",
      "File \u001b[1;32mc:\\Users\\samsc\\AppData\\Local\\Programs\\Python\\Python310\\lib\\site-packages\\cassiopeia\\datastores\\riotapi\\common.py:348\u001b[0m, in \u001b[0;36mRiotAPIRequest.__call__\u001b[1;34m(self)\u001b[0m\n\u001b[0;32m    346\u001b[0m     \u001b[39mreturn\u001b[39;00m body\n\u001b[0;32m    347\u001b[0m \u001b[39mexcept\u001b[39;00m HTTPError \u001b[39mas\u001b[39;00m error:\n\u001b[1;32m--> 348\u001b[0m     \u001b[39mreturn\u001b[39;00m \u001b[39mself\u001b[39;49m\u001b[39m.\u001b[39;49m_retry_request_by_handling_error(error)\n",
      "File \u001b[1;32mc:\\Users\\samsc\\AppData\\Local\\Programs\\Python\\Python310\\lib\\site-packages\\cassiopeia\\datastores\\riotapi\\common.py:376\u001b[0m, in \u001b[0;36mRiotAPIRequest._retry_request_by_handling_error\u001b[1;34m(self, error, handlers)\u001b[0m\n\u001b[0;32m    372\u001b[0m     new_handler \u001b[39m=\u001b[39m \u001b[39mself\u001b[39m\u001b[39m.\u001b[39mservice\u001b[39m.\u001b[39m_handlers[\u001b[39m429\u001b[39m][\n\u001b[0;32m    373\u001b[0m         rate_limiting_type\n\u001b[0;32m    374\u001b[0m     ]()  \u001b[39m# type: FailedRequestHandler\u001b[39;00m\n\u001b[0;32m    375\u001b[0m \u001b[39melse\u001b[39;00m:\n\u001b[1;32m--> 376\u001b[0m     new_handler \u001b[39m=\u001b[39m \u001b[39mself\u001b[39;49m\u001b[39m.\u001b[39;49mservice\u001b[39m.\u001b[39;49m_handlers[error\u001b[39m.\u001b[39;49mcode]()\n\u001b[0;32m    378\u001b[0m \u001b[39m# If we will handle the new error in the same way as we did previously, don't use a new instance\u001b[39;00m\n\u001b[0;32m    379\u001b[0m \u001b[39mfor\u001b[39;00m handler \u001b[39min\u001b[39;00m handlers:\n",
      "\u001b[1;31mKeyError\u001b[0m: 401"
     ]
    }
   ],
   "source": [
    "import cassiopeia as cass\n",
    "from cassiopeia import Summoner, Champion, ChampionMastery\n",
    "\n",
    "\n",
    "def print_champion_mastery():\n",
    "    # Name: Kalturi\n",
    "    # ID: 21359666\n",
    "    # Account ID: 34718348\n",
    "\n",
    "    me = Summoner(name=\"Kalturi\", region=\"NA\")\n",
    "    karma = Champion(name=\"Karma\", id=43, region=\"NA\")\n",
    "    # cm = ChampionMastery(champion=karma, summoner=me, region=\"NA\")\n",
    "    cm = cass.get_champion_mastery(champion=karma, summoner=me, region=\"NA\")\n",
    "    print(\"Champion ID:\", cm.champion.id)\n",
    "    print(\"Mastery points:\", cm.points)\n",
    "    print(\"Mastery Level:\", cm.level)\n",
    "    print(\"Points until next level:\", cm.points_until_next_level)\n",
    "\n",
    "    cms = cass.get_champion_masteries(summoner=me, region=\"NA\")\n",
    "    cms = me.champion_masteries\n",
    "    print(cms[0].points)\n",
    "    # print(cms[\"Karma\"].points)  # Does a ton of calls without a cache\n",
    "\n",
    "    print(\"{} has mastery level 6 or higher on:\".format(me.name))\n",
    "    pro = cms.filter(lambda cm: cm.level >= 6)\n",
    "    print([cm.champion.name for cm in pro])\n",
    "\n",
    "\n",
    "if __name__ == \"__main__\":\n",
    "    print_champion_mastery()\n"
   ]
  }
 ],
 "metadata": {
  "kernelspec": {
   "display_name": "Python 3",
   "language": "python",
   "name": "python3"
  },
  "language_info": {
   "codemirror_mode": {
    "name": "ipython",
    "version": 3
   },
   "file_extension": ".py",
   "mimetype": "text/x-python",
   "name": "python",
   "nbconvert_exporter": "python",
   "pygments_lexer": "ipython3",
   "version": "3.10.10"
  },
  "orig_nbformat": 4,
  "vscode": {
   "interpreter": {
    "hash": "c59af9261b624e332de6bd3da01cf174f757b5c645fe4791478215dc0e304c87"
   }
  }
 },
 "nbformat": 4,
 "nbformat_minor": 2
}
