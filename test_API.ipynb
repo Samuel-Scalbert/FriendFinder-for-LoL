{
 "cells": [
  {
   "cell_type": "code",
   "execution_count": 2,
   "metadata": {},
   "outputs": [],
   "source": [
    "api_key = \"RGAPI-dcc739ff-da03-463f-b0fe-18d40ffd7e9a\""
   ]
  },
  {
   "cell_type": "code",
   "execution_count": 3,
   "metadata": {},
   "outputs": [],
   "source": [
    "import requests"
   ]
  },
  {
   "cell_type": "code",
   "execution_count": 4,
   "metadata": {},
   "outputs": [
    {
     "name": "stdout",
     "output_type": "stream",
     "text": [
      "SILVER II\n"
     ]
    }
   ],
   "source": [
    "## API key\n",
    "\n",
    "api_key = \"RGAPI-a23755a5-a8ee-4170-9c41-fe1c4b02c271\"\n",
    "\n",
    "## récupère puis stocke le PUUID du summoner\n",
    "\n",
    "data_summoner = requests.get('https://euw1.api.riotgames.com/lol/summoner/v4/summoners/by-name/'+ 'SaintLoutr' +'?api_key='+api_key).json()\n",
    "puuid_summoner = data_summoner.get(\"puuid\")\n",
    "id_summoner = data_summoner.get(\"id\")\n",
    "#print(\"puuid =\", puuid_summoner, \"\\nid =\", id_summoner)\n",
    "\n",
    "## récupère les matchs (les derniers) du summoner (ici 5 matchs)\n",
    "## ressource utile les ID des queues : https://static.developer.riotgames.com/docs/lol/queues.json\n",
    "## récupère la division, le tier et les LP du compte\n",
    "\n",
    "matches_id = requests.get('https://europe.api.riotgames.com/lol/match/v5/matches/by-puuid/'+ puuid_summoner +'/ids?queue='+'420'+'&start=0&count=10&api_key='+api_key).json()\n",
    "data_rank = requests.get('https://euw1.api.riotgames.com/lol/league/v4/entries/by-summoner/'+ id_summoner +'?api_key='+api_key).json()\n",
    "print(data_rank[0]['tier'],data_rank[0]['rank'])\n",
    "\n",
    "##vérifie le résultat des game avec l'ID du match et le PUUID du summoner       \n",
    "\n",
    "\n"
   ]
  },
  {
   "cell_type": "code",
   "execution_count": 9,
   "metadata": {},
   "outputs": [
    {
     "name": "stdout",
     "output_type": "stream",
     "text": [
      "WIN\n",
      "LOOSE\n",
      "LOOSE\n",
      "WIN\n",
      "LOOSE\n",
      "WIN\n",
      "WIN\n",
      "WIN\n",
      "LOOSE\n",
      "WIN\n",
      "WIN = 6 \n",
      "LOOSE = 4\n"
     ]
    }
   ],
   "source": [
    "win = 0\n",
    "loose = 0\n",
    "for match_id in matches_id:\n",
    "    match_info = requests.get(\"https://europe.api.riotgames.com/lol/match/v5/matches/\"+ match_id +\"?api_key=\" + api_key).json()\n",
    "    list_player = []\n",
    "    for player in (match_info['metadata']['participants']):\n",
    "        list_player.append(player)\n",
    "    position_player = list_player.index(puuid_summoner)\n",
    "    if match_info['info']['participants'][position_player]['puuid'] == puuid_summoner:\n",
    "            if match_info['info']['participants'][position_player]['win'] == True:\n",
    "                print(\"WIN\")\n",
    "                win += 1\n",
    "            else:\n",
    "                print(\"LOOSE\")\n",
    "                loose += 1\n",
    "print(\"WIN =\",win,\"\\nLOOSE =\",loose)"
   ]
  },
  {
   "cell_type": "code",
   "execution_count": 10,
   "metadata": {},
   "outputs": [
    {
     "name": "stdout",
     "output_type": "stream",
     "text": [
      "WIN\n",
      "LOOSE\n",
      "LOOSE\n",
      "WIN\n",
      "LOOSE\n",
      "WIN\n",
      "WIN\n",
      "WIN\n",
      "LOOSE\n",
      "WIN\n",
      "WIN = 6 \n",
      "LOOSE = 4\n"
     ]
    }
   ],
   "source": [
    "win = 0\n",
    "loose = 0\n",
    "for match_id in matches_id:\n",
    "    match_info = requests.get(\"https://europe.api.riotgames.com/lol/match/v5/matches/\"+ match_id +\"?api_key=\" + api_key).json()\n",
    "    \n",
    "    for player in (match_info['info']['participants']):\n",
    "        if player['puuid'] == puuid_summoner:\n",
    "            if player['win'] == True:\n",
    "                print(\"WIN\")\n",
    "                win += 1\n",
    "            else:\n",
    "                print(\"LOOSE\")\n",
    "                loose += 1\n",
    "print(\"WIN =\",win,\"\\nLOOSE =\",loose)\n",
    "            "
   ]
  }
 ],
 "metadata": {
  "kernelspec": {
   "display_name": "Python 3",
   "language": "python",
   "name": "python3"
  },
  "language_info": {
   "codemirror_mode": {
    "name": "ipython",
    "version": 3
   },
   "file_extension": ".py",
   "mimetype": "text/x-python",
   "name": "python",
   "nbconvert_exporter": "python",
   "pygments_lexer": "ipython3",
   "version": "3.10.10"
  },
  "orig_nbformat": 4,
  "vscode": {
   "interpreter": {
    "hash": "c59af9261b624e332de6bd3da01cf174f757b5c645fe4791478215dc0e304c87"
   }
  }
 },
 "nbformat": 4,
 "nbformat_minor": 2
}
