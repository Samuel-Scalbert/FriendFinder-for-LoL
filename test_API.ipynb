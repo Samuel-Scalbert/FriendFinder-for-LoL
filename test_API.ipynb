{
 "cells": [
  {
   "cell_type": "code",
   "execution_count": 2,
   "metadata": {},
   "outputs": [],
   "source": [
    "api_key = \"RGAPI-dcc739ff-da03-463f-b0fe-18d40ffd7e9a\""
   ]
  },
  {
   "cell_type": "code",
   "execution_count": 3,
   "metadata": {},
   "outputs": [],
   "source": [
    "import requests"
   ]
  },
  {
   "cell_type": "code",
   "execution_count": 80,
   "metadata": {},
   "outputs": [
    {
     "name": "stdout",
     "output_type": "stream",
     "text": [
      "SaintLoutr True\n",
      "SaintLoutr True\n",
      "SaintLoutr False\n",
      "SaintLoutr False\n",
      "SaintLoutr True\n"
     ]
    }
   ],
   "source": [
    "## récupère puis stocke le PUUID du summoner\n",
    "\n",
    "data_summoner = requests.get('https://euw1.api.riotgames.com/lol/summoner/v4/summoners/by-name/SaintLoutr?api_key=RGAPI-dcc739ff-da03-463f-b0fe-18d40ffd7e9a').json()\n",
    "puuid_summoner = data_summoner.get(\"puuid\")\n",
    "\n",
    "## récupère les matchs (les derniers) du summoner (ici 5 matchs)\n",
    "\n",
    "matches_id = 'https://europe.api.riotgames.com/lol/match/v5/matches/by-puuid/'+ puuid_summoner +'/ids?start=0&count=5&api_key=RGAPI-dcc739ff-da03-463f-b0fe-18d40ffd7e9a'\n",
    "matches_id = requests.get(matches_id).json()\n",
    "\n",
    "##vérifie le résultat des game avec l'ID du match et le PUUID du summoner\n",
    "\n",
    "for match_id in matches_id:\n",
    "    match_info = \"https://europe.api.riotgames.com/lol/match/v5/matches/\"+ match_id +\"?api_key=RGAPI-dcc739ff-da03-463f-b0fe-18d40ffd7e9a\"\n",
    "    match_info = requests.get(match_info).json()\n",
    "\n",
    "    for player in (match_info['info']['participants']):\n",
    "        if player['puuid'] == puuid_summoner:\n",
    "            print(player['summonerName'],player['win'])\n",
    "\n",
    "\n"
   ]
  },
  {
   "cell_type": "code",
   "execution_count": null,
   "metadata": {},
   "outputs": [],
   "source": []
  }
 ],
 "metadata": {
  "kernelspec": {
   "display_name": "Python 3",
   "language": "python",
   "name": "python3"
  },
  "language_info": {
   "codemirror_mode": {
    "name": "ipython",
    "version": 3
   },
   "file_extension": ".py",
   "mimetype": "text/x-python",
   "name": "python",
   "nbconvert_exporter": "python",
   "pygments_lexer": "ipython3",
   "version": "3.10.10"
  },
  "orig_nbformat": 4,
  "vscode": {
   "interpreter": {
    "hash": "c59af9261b624e332de6bd3da01cf174f757b5c645fe4791478215dc0e304c87"
   }
  }
 },
 "nbformat": 4,
 "nbformat_minor": 2
}
