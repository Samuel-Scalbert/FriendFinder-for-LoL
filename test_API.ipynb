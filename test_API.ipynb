{
 "cells": [
  {
   "cell_type": "code",
   "execution_count": 19,
   "metadata": {},
   "outputs": [],
   "source": [
    "api_key = \"RGAPI-d981edb9-6cb5-4bb9-8700-5f43f0f6084e\""
   ]
  },
  {
   "cell_type": "code",
   "execution_count": 3,
   "metadata": {},
   "outputs": [],
   "source": [
    "import requests"
   ]
  },
  {
   "cell_type": "code",
   "execution_count": 30,
   "metadata": {},
   "outputs": [
    {
     "name": "stdout",
     "output_type": "stream",
     "text": [
      "SaintLoutr SILVER II 16 LP\n",
      "Draeknof GOLD IV 75 LP\n",
      "Haukeas Grémory GOLD IV 2 LP\n"
     ]
    }
   ],
   "source": [
    "## récupère puis stocke le PUUID du summoner\n",
    "\n",
    "def ranking (summoner_list):\n",
    "\n",
    "    for summoner in summoner_list:\n",
    "        data_summoner = requests.get('https://euw1.api.riotgames.com/lol/summoner/v4/summoners/by-name/'+ summoner +'?api_key='+api_key).json()\n",
    "        puuid_summoner = data_summoner.get(\"puuid\")\n",
    "        id_summoner = data_summoner.get(\"id\")\n",
    "        #print(\"puuid =\", puuid_summoner, \"\\nid =\", id_summoner)\n",
    "\n",
    "## récupère les matchs (les derniers) du summoner (ici 5 matchs)\n",
    "## ressource utile les ID des queues : https://static.developer.riotgames.com/docs/lol/queues.json\n",
    "## récupère la division, le tier et les LP du compte\n",
    "\n",
    "        data_rank = requests.get('https://euw1.api.riotgames.com/lol/league/v4/entries/by-summoner/'+ id_summoner +'?api_key='+api_key).json()\n",
    "\n",
    "        for data_SOLOQ in data_rank:\n",
    "            if data_SOLOQ['queueType'] == 'RANKED_SOLO_5x5':\n",
    "                data_rank=data_SOLOQ\n",
    "\n",
    "        print(summoner,data_rank['tier'],data_rank['rank'],data_rank['leaguePoints'], \"LP\") \n",
    "    \n",
    "    \n",
    "summoner_list = [\"SaintLoutr\",\"Draeknof\",\"Haukeas Grémory\"]\n",
    "nb_summoner = len(summoner_list)\n",
    "\n",
    "ranking(summoner_list)\n",
    "    \n",
    "\n",
    "\n"
   ]
  },
  {
   "cell_type": "code",
   "execution_count": 31,
   "metadata": {},
   "outputs": [
    {
     "name": "stdout",
     "output_type": "stream",
     "text": [
      "LOOSE\n",
      "WIN = 0 \n",
      "LOOSE = 1\n"
     ]
    }
   ],
   "source": [
    "##vérifie le résultat des game avec l'ID du match et le PUUID du summoner \n",
    "matches_id = requests.get('https://europe.api.riotgames.com/lol/match/v5/matches/by-puuid/'+ puuid_summoner +'/ids?queue='+'420'+'&start=0&count=1&api_key='+api_key).json()\n",
    "\n",
    "win = 0\n",
    "loose = 0\n",
    "for match_id in matches_id:\n",
    "    match_info = requests.get(\"https://europe.api.riotgames.com/lol/match/v5/matches/\"+ match_id +\"?api_key=\" + api_key).json()\n",
    "    list_player = []\n",
    "    for player in (match_info['metadata']['participants']):\n",
    "        list_player.append(player)\n",
    "    position_player = list_player.index(puuid_summoner)\n",
    "    if match_info['info']['participants'][position_player]['puuid'] == puuid_summoner:\n",
    "            if match_info['info']['participants'][position_player]['win'] == True:\n",
    "                print(\"WIN\")\n",
    "                win += 1\n",
    "            else:\n",
    "                print(\"LOOSE\")\n",
    "                loose += 1\n",
    "print(\"WIN =\",win,\"\\nLOOSE =\",loose)"
   ]
  },
  {
   "cell_type": "code",
   "execution_count": 32,
   "metadata": {},
   "outputs": [
    {
     "name": "stdout",
     "output_type": "stream",
     "text": [
      "LOOSE\n"
     ]
    }
   ],
   "source": [
    "##vérifie le résultat des game avec l'ID du match et le PUUID du summoner \n",
    "\n",
    "for match_id in matches_id:\n",
    "    match_info = requests.get(\"https://europe.api.riotgames.com/lol/match/v5/matches/\"+ match_id +\"?api_key=\" + api_key).json()\n",
    "    \n",
    "    for player in (match_info['info']['participants']):\n",
    "        if player['puuid'] == puuid_summoner:\n",
    "            if player['win'] == True:\n",
    "                print(\"WIN\")\n",
    "            else:\n",
    "                print(\"LOOSE\")\n",
    "\n",
    "            "
   ]
  }
 ],
 "metadata": {
  "kernelspec": {
   "display_name": "Python 3",
   "language": "python",
   "name": "python3"
  },
  "language_info": {
   "codemirror_mode": {
    "name": "ipython",
    "version": 3
   },
   "file_extension": ".py",
   "mimetype": "text/x-python",
   "name": "python",
   "nbconvert_exporter": "python",
   "pygments_lexer": "ipython3",
   "version": "3.10.10"
  },
  "orig_nbformat": 4,
  "vscode": {
   "interpreter": {
    "hash": "c59af9261b624e332de6bd3da01cf174f757b5c645fe4791478215dc0e304c87"
   }
  }
 },
 "nbformat": 4,
 "nbformat_minor": 2
}
