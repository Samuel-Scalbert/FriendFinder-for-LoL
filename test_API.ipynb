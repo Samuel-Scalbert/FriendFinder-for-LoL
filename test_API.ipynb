{
 "cells": [
  {
   "cell_type": "code",
   "execution_count": 27,
   "metadata": {},
   "outputs": [],
   "source": [
    "api_key = "
   ]
  },
  {
   "cell_type": "code",
   "execution_count": 3,
   "metadata": {},
   "outputs": [],
   "source": [
    "import requests\n"
   ]
  },
  {
   "cell_type": "code",
   "execution_count": 47,
   "metadata": {},
   "outputs": [
    {
     "name": "stdout",
     "output_type": "stream",
     "text": [
      "[{'leagueId': 'ffb5c0c3-5a9e-4422-b342-1d4709120164', 'queueType': 'RANKED_FLEX_SR', 'tier': 'SILVER', 'rank': 'I', 'summonerId': 'ehqKNeSs9tBC41Zni3yOrKcsPH6daMFI1RJXN-ovYffT4SMnCJwcTbLF_g', 'summonerName': 'SaintLoutr', 'leaguePoints': 6, 'wins': 28, 'losses': 13, 'veteran': False, 'inactive': False, 'freshBlood': False, 'hotStreak': False}, {'leagueId': '0c6e0dbf-7db9-4fe9-ad2e-d03e751bac52', 'queueType': 'RANKED_SOLO_5x5', 'tier': 'SILVER', 'rank': 'III', 'summonerId': 'ehqKNeSs9tBC41Zni3yOrKcsPH6daMFI1RJXN-ovYffT4SMnCJwcTbLF_g', 'summonerName': 'SaintLoutr', 'leaguePoints': 54, 'wins': 56, 'losses': 56, 'veteran': False, 'inactive': False, 'freshBlood': False, 'hotStreak': False}]\n",
      "pas de SOLO Q\n",
      "SaintLoutr SILVER III 54 LP\n",
      "pas de SOLO Q\n",
      "[]\n",
      "[{'leagueId': '475dbc4d-10cb-4ac2-9ce7-aa680335c6f0', 'queueType': 'RANKED_FLEX_SR', 'tier': 'SILVER', 'rank': 'III', 'summonerId': 'frBmwKC8AWryZwu6st0zS8Fcm7swCNFHgdNXFDmdaCMJkdE', 'summonerName': 'Blarckful', 'leaguePoints': 3, 'wins': 26, 'losses': 14, 'veteran': False, 'inactive': False, 'freshBlood': False, 'hotStreak': True}, {'leagueId': '1873aa30-f006-426f-ace2-3fbad0aaf1e2', 'queueType': 'RANKED_SOLO_5x5', 'tier': 'SILVER', 'rank': 'II', 'summonerId': 'frBmwKC8AWryZwu6st0zS8Fcm7swCNFHgdNXFDmdaCMJkdE', 'summonerName': 'Blarckful', 'leaguePoints': 56, 'wins': 16, 'losses': 20, 'veteran': False, 'inactive': False, 'freshBlood': False, 'hotStreak': False}]\n",
      "pas de SOLO Q\n",
      "Blarckful SILVER II 56 LP\n",
      "pas de SOLO Q\n"
     ]
    }
   ],
   "source": [
    "## récupère puis stocke le PUUID du summoner\n",
    "\n",
    "def ranking (summoner_list):\n",
    "\n",
    "    for summoner in summoner_list:\n",
    "        data_summoner = requests.get('https://euw1.api.riotgames.com/lol/summoner/v4/summoners/by-name/'+ summoner +'?api_key='+api_key).json()\n",
    "        if data_summoner is not None and \"id\" in data_summoner:\n",
    "            id_summoner = data_summoner.get(\"id\")\n",
    "            puuid_summoner = data_summoner.get(\"puuid\")\n",
    "            #print(puuid_summoner,id_summoner)\n",
    "  \n",
    "            ## récupère les matchs (les derniers) du summoner (ici 5 matchs)\n",
    "            ## ressource utile les ID des queues : https://static.developer.riotgames.com/docs/lol/queues.json\n",
    "            ## récupère la division, le tier et les LP du compte\n",
    "            \n",
    "            data_rank = requests.get('https://euw1.api.riotgames.com/lol/league/v4/entries/by-summoner/'+ id_summoner +'?api_key='+api_key).json()\n",
    "            print(data_rank)\n",
    "\n",
    "            for data_SOLOQ in data_rank:\n",
    "                #if 'RANKED_SOLO_5x5' in data_SOLOQ['queueType']:\n",
    "                if data_SOLOQ['queueType'] == \"RANKED_SOLO_5x5\":\n",
    "                    data_rank=data_SOLOQ\n",
    "                    print(summoner,data_rank['tier'],data_rank['rank'],data_rank['leaguePoints'], \"LP\")\n",
    "                if 'RANKED_SOLO_5x5' not in data_rank:\n",
    "                    print(\"pas de SOLO Q\")\n",
    "        else:\n",
    "            print(f\"Failed to retrieve data for summoner {summoner}\")\n",
    "\n",
    "#summoner_list = [\"SaintLoutr\",\"Draeknof\",\"Haukeas Grémory\",\"Caio73\",\"charlos92604\",\"7689000\",\"Alrsay\",\"TheK1ngPotato\",\"Blarckful\"]\n",
    "summoner_list = [\"SaintLoutr\",\"TheK1ngPotato\",\"Blarckful\"]\n",
    "ranking(summoner_list)\n",
    "    \n",
    "\n",
    "\n"
   ]
  },
  {
   "cell_type": "code",
   "execution_count": 5,
   "metadata": {},
   "outputs": [
    {
     "name": "stdout",
     "output_type": "stream",
     "text": [
      "SaintLoutr\n",
      "LOOSE\n",
      "WIN\n",
      "LOOSE\n",
      "LOOSE\n",
      "LOOSE\n",
      "Draeknof\n",
      "LOOSE\n",
      "WIN\n",
      "WIN\n",
      "LOOSE\n",
      "WIN\n",
      "Haukeas Grémory\n",
      "LOOSE\n",
      "LOOSE\n",
      "WIN\n",
      "WIN\n",
      "WIN\n"
     ]
    }
   ],
   "source": [
    "##vérifie le résultat des game avec l'ID du match et le PUUID du summoner \n",
    "def result_match (summoner_list):\n",
    "    \n",
    "    for summoner in summoner_list:\n",
    "        data_summoner = requests.get('https://euw1.api.riotgames.com/lol/summoner/v4/summoners/by-name/'+ summoner +'?api_key='+api_key).json()\n",
    "        puuid_summoner = data_summoner.get(\"puuid\")\n",
    "        matches_id = requests.get('https://europe.api.riotgames.com/lol/match/v5/matches/by-puuid/'+ puuid_summoner +'/ids?queue='+'420'+'&start=0&count=1&api_key='+api_key).json()\n",
    "        print(summoner)\n",
    "\n",
    "        \n",
    "        for match_id in matches_id:\n",
    "            match_info = requests.get(\"https://europe.api.riotgames.com/lol/match/v5/matches/\"+ match_id +\"?api_key=\" + api_key).json()\n",
    "            for player in (match_info['info']['participants']):\n",
    "                if player['puuid'] == puuid_summoner:\n",
    "                    if player['win'] == True:\n",
    "                        print(\"WIN\")\n",
    "                    else:\n",
    "                        print(\"LOOSE\")\n",
    "                \n",
    "    list_player = []\n",
    "\n",
    "summoner_list = [\"SaintLoutr\",\"Draeknof\",\"Haukeas Grémory\"]\n",
    "result_match(summoner_list)"
   ]
  },
  {
   "cell_type": "code",
   "execution_count": 6,
   "metadata": {},
   "outputs": [
    {
     "ename": "IndentationError",
     "evalue": "unexpected indent (1143700073.py, line 14)",
     "output_type": "error",
     "traceback": [
      "\u001b[1;36m  Cell \u001b[1;32mIn[6], line 14\u001b[1;36m\u001b[0m\n\u001b[1;33m    for player in (match_info['metadata']['participants']):\u001b[0m\n\u001b[1;37m    ^\u001b[0m\n\u001b[1;31mIndentationError\u001b[0m\u001b[1;31m:\u001b[0m unexpected indent\n"
     ]
    }
   ],
   "source": []
  }
 ],
 "metadata": {
  "kernelspec": {
   "display_name": "Python 3",
   "language": "python",
   "name": "python3"
  },
  "language_info": {
   "codemirror_mode": {
    "name": "ipython",
    "version": 3
   },
   "file_extension": ".py",
   "mimetype": "text/x-python",
   "name": "python",
   "nbconvert_exporter": "python",
   "pygments_lexer": "ipython3",
   "version": "3.10.10"
  },
  "orig_nbformat": 4,
  "vscode": {
   "interpreter": {
    "hash": "c59af9261b624e332de6bd3da01cf174f757b5c645fe4791478215dc0e304c87"
   }
  }
 },
 "nbformat": 4,
 "nbformat_minor": 2
}
