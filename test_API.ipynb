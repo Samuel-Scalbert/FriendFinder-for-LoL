{
 "cells": [
  {
   "cell_type": "code",
   "execution_count": 1,
   "metadata": {},
   "outputs": [
    {
     "name": "stdout",
     "output_type": "stream",
     "text": [
      "[('TheK1ngPotato', 'GOLD', 13, 11), ('Draeknof', 'GOLD', 13, 0), ('Haukeas Grémory', 'GOLD', 14, 0), ('Blarckful', 'SILVER', 12, 98), ('SaintLoutr', 'SILVER', 13, 0), ('Caio73', 'BRONZE', 11, 67), ('ThePr1ncePotato', 'BRONZE', 12, 47), ('7689000', 'BRONZE', 14, 0)]\n"
     ]
    }
   ],
   "source": [
    "api_key = \"RGAPI-6adfe7bd-a7a9-42f9-b5ed-87ea29024f5f\"\n",
    "my_list = [('TheK1ngPotato', 'GOLD', 3, 11), ('Draeknof', 'GOLD', 3, 0), ('Haukeas Grémory', 'GOLD', 4, 0), ('Blarckful', 'SILVER', 2, 98), ('SaintLoutr', 'SILVER', 3, 0), ('Caio73', 'BRONZE', 1, 67), ('ThePr1ncePotato', 'BRONZE', 2, 47), ('7689000', 'BRONZE', 4, 0)]\n",
    "\n",
    "for i in range(len(my_list)):\n",
    "    number = my_list[i][2]\n",
    "    n = number + 10\n",
    "    my_list[i] = (my_list[i][0], my_list[i][1], n, my_list[i][3])\n",
    "\n",
    "print(my_list)"
   ]
  },
  {
   "cell_type": "code",
   "execution_count": 2,
   "metadata": {},
   "outputs": [
    {
     "data": {
      "text/plain": [
       "'Pyke'"
      ]
     },
     "execution_count": 2,
     "metadata": {},
     "output_type": "execute_result"
    }
   ],
   "source": [
    "import requests\n",
    "\n",
    "version_patch = requests.get('https://ddragon.leagueoflegends.com/api/versions.json').json()\n",
    "version_patch = version_patch[0]\n",
    "data_champion = requests.get('https://ddragon.leagueoflegends.com/cdn/'+ version_patch +'/data/fr_FR/champion.json').json()\n",
    "id_champion = data_champion[\"data\"]\n",
    "\n",
    "def getChampionInfo(id):\n",
    "    global id_champion\n",
    "    for key in id_champion:\n",
    "        if id_champion[key]['key'] == str(id):\n",
    "            return key\n",
    "    return False\n",
    "\n",
    "getChampionInfo(555)"
   ]
  },
  {
   "cell_type": "code",
   "execution_count": 3,
   "metadata": {},
   "outputs": [],
   "source": [
    "#converter roman number to int (the date won't go further 5 as there is only 5 tier possible in the data)\n",
    "class roman_to_int(object):\n",
    "   def romanToInt(self, s):\n",
    "      \"\"\"\n",
    "      :type s: str\n",
    "      :rtype: int\n",
    "      \"\"\"\n",
    "      roman = {'I':1,'V':5}\n",
    "      i = 0\n",
    "      num = 0\n",
    "      while i < len(s):\n",
    "         if i+1<len(s) and s[i:i+2] in roman:\n",
    "            num+=roman[s[i:i+2]]\n",
    "            i+=2\n",
    "         else:\n",
    "            num+=roman[s[i]]\n",
    "            i+=1\n",
    "      return num\n"
   ]
  },
  {
   "cell_type": "code",
   "execution_count": 4,
   "metadata": {},
   "outputs": [
    {
     "name": "stdout",
     "output_type": "stream",
     "text": [
      "6Qf7TxMUssidN7tK57LQLfwFP-0KbGnpl0qeRHT92kQoL0i9hUA1gyZoig\n",
      "SaintLoutr SILVER IV 81 LP\n",
      "SJkkzi6dOPuhx-azWFVuFf8DhQPKXndDOxSPpO4jE8Icl9lR\n",
      "Draeknof GOLD IV 75 LP\n",
      "BpDM3cZDdKCb_xMKjMOYuph42v3BbB1hTE6h8wvMcia-xcPQ\n",
      "Haukeas Grémory GOLD IV 0 LP\n",
      "9hyU9dTr7a7BNTdRqIxMU45ClNmE1JiFZ7iyUlg0kmpsrhE\n",
      "Caio73 BRONZE I 100 LP\n",
      "Failed to retrieve data for summoner charlos92604\n",
      "RvdvKpOs3UflgNFTxpKoNOJh_Ri_c_ct8cpZjAiujTpshJU\n",
      "7689000 BRONZE IV 0 LP\n",
      "mVi65REkPIOmCREZUyYz8rupND5i4-YqkZqb05t_spaamR0\n",
      "Alrsay PLATINUM III 27 LP\n",
      "Lk2rpY4KWIS8VvZuPLoxRUdqDsS1f4R8mBuwS4sOYVKbu_w\n",
      "TheK1ngPotato GOLD II 38 LP\n",
      "gIFdH50U0kpetV2XKoLOXk2ixYeKEE7e1Hiy7R2wV0DDn9g\n",
      "Blarckful SILVER I 26 LP\n"
     ]
    }
   ],
   "source": [
    "## function ranking_information : take a list of summoners name and return a list of those summoners but with their rank informations (if the summoners is not found he is not added to the output list)\n",
    "\n",
    "def ranking_information (summoner_list_name:list):\n",
    "    global list_summoner_rank\n",
    "    list_summoner_rank = []\n",
    "\n",
    "    for summoner in summoner_list_name:\n",
    "    \n",
    "        ## retrieve two important informations (the id and puuid) for the next steps\n",
    "        \n",
    "        data_summoner = requests.get('https://euw1.api.riotgames.com/lol/summoner/v4/summoners/by-name/'+ summoner +'?api_key='+api_key).json()\n",
    "        if data_summoner is not None and \"id\" in data_summoner:\n",
    "            id_summoner = data_summoner.get(\"id\")\n",
    "            puuid_summoner = data_summoner.get(\"puuid\")\n",
    "            print(id_summoner)\n",
    "          \n",
    "            ## with the id we can retrieve the information of the account (tier, LP, rank)  \n",
    "            \n",
    "            data_rank = requests.get('https://euw1.api.riotgames.com/lol/league/v4/entries/by-summoner/'+ id_summoner +'?api_key='+api_key).json()\n",
    "        \n",
    "            ## we check from the data_rank if the account has done any SOLO Q games for this season only !!\n",
    "            \n",
    "            presence_of_soloq_data = False\n",
    "            for data_SOLOQ in data_rank:\n",
    "                if data_SOLOQ['queueType'] == \"RANKED_SOLO_5x5\":\n",
    "                    print(summoner,data_SOLOQ['tier'],data_SOLOQ['rank'],data_SOLOQ['leaguePoints'], \"LP\")\n",
    "                    rank = roman_to_int().romanToInt(data_SOLOQ['rank'])\n",
    "                    \n",
    "                    ## here we save the informations for each account            \n",
    "                      \n",
    "                    list_summoner_rank.append((summoner,data_SOLOQ['tier'],rank,data_SOLOQ['leaguePoints']))\n",
    "                    presence_of_soloq_data = True\n",
    "            if not presence_of_soloq_data:\n",
    "                print(f\"No data / No SOLO Q for this account : {summoner}\")\n",
    "\n",
    "                ## we still keep the summoner in the final list (to avoid users thinking that the account was not checked)\n",
    "                    \n",
    "                list_summoner_rank.append((summoner,\"none\",\"0\", \"0\"))\n",
    "        else:\n",
    "            print(f\"Failed to retrieve data for summoner {summoner}\")\n",
    "            \n",
    "summoner_list = [\"SaintLoutr\",\"Draeknof\",\"Haukeas Grémory\",\"Caio73\",\"charlos92604\",\"7689000\",\"Alrsay\",\"TheK1ngPotato\",\"Blarckful\"]\n",
    "#summoner_list = [\"SaintLoutr\",\"TheK1ngPotato\",\"Draeknof\"]\n",
    "\n",
    "ranking_information(summoner_list)"
   ]
  },
  {
   "cell_type": "code",
   "execution_count": 5,
   "metadata": {},
   "outputs": [
    {
     "name": "stdout",
     "output_type": "stream",
     "text": [
      "1680040801 1680127199\n"
     ]
    }
   ],
   "source": [
    "import datetime\n",
    "import calendar\n",
    "\n",
    "## set the time of today\n",
    "\n",
    "now = datetime.datetime.now()\n",
    "\n",
    "start_of_day = datetime.datetime(\n",
    "    year=now.year,\n",
    "    month=now.month,\n",
    "    day=now.day,\n",
    "    hour=0,\n",
    "    minute=0,\n",
    "    second= 1,\n",
    ")\n",
    "\n",
    "end_of_day = datetime.datetime(\n",
    "    year=now.year,\n",
    "    month=now.month,\n",
    "    day=now.day,\n",
    "    hour=23,\n",
    "    minute=59,\n",
    "    second=59,\n",
    ")\n",
    "\n",
    "## retrieve the start of the day and the end of the day\n",
    "\n",
    "end_of_day_epoch = str(int(end_of_day.timestamp()))\n",
    "start_of_day_epoch = str(int(start_of_day.timestamp()))\n",
    "\n",
    "print(start_of_day_epoch, end_of_day_epoch)\n"
   ]
  },
  {
   "cell_type": "code",
   "execution_count": 6,
   "metadata": {},
   "outputs": [
    {
     "data": {
      "text/plain": [
       "[]"
      ]
     },
     "execution_count": 6,
     "metadata": {},
     "output_type": "execute_result"
    }
   ],
   "source": [
    "## the function result_match take a list of summoners and return a list of the results of their SOLOQ of the day \n",
    "def result_match (summoner_list):\n",
    "\n",
    "    for summoner in summoner_list:\n",
    "        w = 0\n",
    "        l = 0 \n",
    "        wr = 0\n",
    "        winrate = []\n",
    "        data_summoner = requests.get('https://euw1.api.riotgames.com/lol/summoner/v4/summoners/by-name/'+ summoner +'?api_key='+api_key).json()\n",
    "        if \"id\" in data_summoner:\n",
    "            puuid_summoner = data_summoner.get(\"puuid\")\n",
    "            \n",
    "            ## with the id, the end of the day, and the start of the day we can check if the account has done any SOLOQ for the day\n",
    "            \n",
    "            matches_id = requests.get('https://europe.api.riotgames.com/lol/match/v5/matches/by-puuid/'+ puuid_summoner +'/ids?queue='+'420'+'&startTime='+ start_of_day_epoch +'&endTime='+ end_of_day_epoch +'&count=20&api_key='+api_key).json()\n",
    "\n",
    "            ## check if there is any match\n",
    "            \n",
    "            if len(matches_id) != 0:  \n",
    "                for match_id in matches_id:\n",
    "                    \n",
    "                    ## check the result of the game for the summoner\n",
    "                    \n",
    "                    match_info = requests.get(\"https://europe.api.riotgames.com/lol/match/v5/matches/\"+ match_id +\"?api_key=\" + api_key).json()\n",
    "                    for player in (match_info['info']['participants']):\n",
    "                        if player['puuid'] == puuid_summoner:\n",
    "                            if player['win'] == True:\n",
    "                                w += 1\n",
    "                            else:\n",
    "                                l += 1\n",
    "                wr = (w / (w + l)) * 100\n",
    "                winrate.append( \"{:.1f}%\".format(wr))\n",
    "                winrate.append( w + l)\n",
    "        else:\n",
    "            winrate.append(None) \n",
    "            winrate.append(summoner)           \n",
    "        return(winrate)\n",
    "\n",
    "result_match(summoner_list)"
   ]
  },
  {
   "cell_type": "code",
   "execution_count": 7,
   "metadata": {},
   "outputs": [
    {
     "name": "stdout",
     "output_type": "stream",
     "text": [
      "Connexion réussie à SQLite\n",
      "Erreur lors de l'insertion dans la table leaderboard no such table: leaderboard\n",
      "Connexion réussie à SQLite\n",
      "Erreur lors de l'insertion dans la table leaderboard no such table: leaderboard\n",
      "Connexion réussie à SQLite\n",
      "Erreur lors de l'insertion dans la table leaderboard no such table: leaderboard\n",
      "Connexion réussie à SQLite\n",
      "Erreur lors de l'insertion dans la table leaderboard no such table: leaderboard\n",
      "Connexion réussie à SQLite\n",
      "Erreur lors de l'insertion dans la table leaderboard no such table: leaderboard\n",
      "Connexion réussie à SQLite\n",
      "Erreur lors de l'insertion dans la table leaderboard no such table: leaderboard\n",
      "Connexion réussie à SQLite\n",
      "Erreur lors de l'insertion dans la table leaderboard no such table: leaderboard\n",
      "Connexion réussie à SQLite\n",
      "Erreur lors de l'insertion dans la table leaderboard no such table: leaderboard\n"
     ]
    }
   ],
   "source": [
    "#ajout des données de rank des compte dans une base de données\n",
    "\n",
    "import sqlite3\n",
    "\n",
    "def insert_into_leaderboard(SummonerName, Tier, Rank, LP):\n",
    "  try:\n",
    "    conn = sqlite3.connect('leaderboard.db')\n",
    "    cur = conn.cursor()\n",
    "    print(\"Connexion réussie à SQLite\")\n",
    "    sql = \"INSERT INTO leaderboard (SummonerName, Tier, Rank, LP) VALUES (?, ?, ?, ?)\"\n",
    "    value = (SummonerName, Tier, Rank, LP)\n",
    "    cur.execute(sql, value)\n",
    "    conn.commit()\n",
    "    print(f\"Enregistrement inséré avec succès dans la table leaderboard pour le compte {SummonerName}\")\n",
    "    cur.close()\n",
    "    conn.close()\n",
    "    print(\"Connexion SQLite est fermée\")\n",
    "  except sqlite3.Error as error:\n",
    "    print(\"Erreur lors de l'insertion dans la table leaderboard\", error)\n",
    "\n",
    "for summoner in list_summoner_rank:\n",
    "    SummonerName, Tier, Rank, LP = summoner\n",
    "    insert_into_leaderboard(SummonerName, Tier, Rank, LP)"
   ]
  },
  {
   "cell_type": "code",
   "execution_count": 8,
   "metadata": {},
   "outputs": [
    {
     "name": "stdout",
     "output_type": "stream",
     "text": [
      "Connexion réussie à SQLite\n",
      "Erreur  no such table: leaderboard\n"
     ]
    }
   ],
   "source": [
    "#suppresion de la table\n",
    "\n",
    "try:\n",
    "   conn = sqlite3.connect('leaderboard.db')\n",
    "   cur = conn.cursor()\n",
    "   print(\"Connexion réussie à SQLite\")\n",
    "   cur.execute(\"delete from leaderboard\")\n",
    "   conn.commit()\n",
    "   print(\"leaderboard supprimé\")\n",
    "   cur.close()\n",
    "   conn.close()\n",
    "   print(\"Connexion SQLite est fermée\")\n",
    "except sqlite3.Error as error:\n",
    "   print(\"Erreur \", error)"
   ]
  },
  {
   "cell_type": "code",
   "execution_count": 9,
   "metadata": {},
   "outputs": [
    {
     "ename": "SyntaxError",
     "evalue": "unterminated string literal (detected at line 7) (2102474543.py, line 7)",
     "output_type": "error",
     "traceback": [
      "\u001b[1;36m  Cell \u001b[1;32mIn[9], line 7\u001b[1;36m\u001b[0m\n\u001b[1;33m    cur.execute(\"\u001b[0m\n\u001b[1;37m                ^\u001b[0m\n\u001b[1;31mSyntaxError\u001b[0m\u001b[1;31m:\u001b[0m unterminated string literal (detected at line 7)\n"
     ]
    }
   ],
   "source": [
    "#sorting de la liste\n",
    "\n",
    "try:\n",
    "   conn = sqlite3.connect('leaderboard.db')\n",
    "   cur = conn.cursor()\n",
    "   print(\"Connexion réussie à SQLite\")\n",
    "   cur.execute(\"\n",
    "SELECT *FROM data_ranking ORDER BY CASE \n",
    "WHEN Rank = 'CHALLENGER' THEN 1 \n",
    "WHEN Rank = 'GRANDMASTER' THEN 2 \n",
    "WHEN Rank = 'MASTER' THEN 3 \n",
    "WHEN Rank = 'DIAMOND' THEN 4 \n",
    "WHEN Rank = 'PLATINIUM' THEN 5 \n",
    "WHEN Rank = 'GOLD' THEN 6 \n",
    "WHEN Rank = 'SILVER' THEN 7 \n",
    "WHEN Rank = 'BRONZE' THEN 8 \n",
    "WHEN Rank = 'IRON' THEN 9 \n",
    "ELSE 10 END\n",
    ",Tier asc,lp desc;\n",
    "\")\n",
    "   conn.commit()\n",
    "   print(\"leaderboard sorted\")\n",
    "   cur.close()\n",
    "   conn.close()\n",
    "   print(\"Connexion SQLite est fermée\")\n",
    "except sqlite3.Error as error:\n",
    "   print(\"Erreur \", error)"
   ]
  },
  {
   "cell_type": "code",
   "execution_count": null,
   "metadata": {},
   "outputs": [
    {
     "name": "stdout",
     "output_type": "stream",
     "text": [
      "[{'name': 'Velkoz', 'points': 62379, 'tokens': 0}, {'name': 'Ezreal', 'points': 54455, 'tokens': 3}, {'name': 'Kaisa', 'points': 51950, 'tokens': 2}, {'name': 'Vayne', 'points': 42503, 'tokens': 3}, {'name': 'MissFortune', 'points': 33313, 'tokens': 1}]\n"
     ]
    }
   ],
   "source": [
    "\n",
    "import requests\n",
    "\n",
    "\n",
    "api_key = \"RGAPI-6adfe7bd-a7a9-42f9-b5ed-87ea29024f5f\"\n",
    "\n",
    "\n",
    "# RECUPERATION DE LA BASE DE DONNEES OFFICIELLE DES CHAMPIONS\n",
    "# On le fait ici, parce que ca ne dépend pas des informations du joueur\n",
    "\n",
    "# Récupère les versions du jeu\n",
    "version_patch = requests.get(\"https://ddragon.leagueoflegends.com/api/versions.json\").json()\n",
    "# Récupère la dernière version du jeu\n",
    "version_patch = version_patch[0]\n",
    "# Récupère les données des champions en francais a partir de la derniere version du jeu\n",
    "# Stocke les données des champions dans la variable data_full_champion\n",
    "data_full_champion = requests.get('https://ddragon.leagueoflegends.com/cdn/'+ version_patch + '/data/fr_FR/champion.json').json()\n",
    "# Stocke les données des champions dans la variable data_champion_by_name\n",
    "data_champion_by_name = data_full_champion[\"data\"]\n",
    "\n",
    "\n",
    "\n",
    "# Definition de la fonction get_champion_name_by_id qui récupère le nom d'un champion à partir de son ID\n",
    "def get_champion_name_by_id(id):\n",
    "    # utilisation de la variable globale data_champion_by_name\n",
    "    global data_champion_by_name\n",
    "    # On parcourt la liste des champions\n",
    "    for name in data_champion_by_name:\n",
    "        # On vérifie si l'id du champion correspond à l'id du champion recherché\n",
    "       if data_champion_by_name[name]['key']== str(id):\n",
    "            # Si oui, on retourne le nom du champion\n",
    "            return name\n",
    "    return False\n",
    "\n",
    "\n",
    "# Definition de la fonction afficher_champions\n",
    "def afficher_champions(summoner_name, champions_count):\n",
    "\n",
    "    # Utilisation de la variable globale api_key\n",
    "    global api_key\n",
    "\n",
    "    data_summoner = requests.get(\n",
    "        f\"https://euw1.api.riotgames.com/lol/summoner/v4/summoners/by-name/{summoner_name}?api_key={api_key}\"\n",
    "    ).json()\n",
    "\n",
    "\n",
    "    if type(data_summoner) == dict and \"status\" in data_summoner:\n",
    "        if 403 == data_summoner[\"status\"][\"status_code\"]:\n",
    "            print(\"API key expired.\")\n",
    "            exit()\n",
    "        elif \"id\" not in data_summoner:\n",
    "            print(\"Erreur, la requête n'a pas retourné d'id\")\n",
    "            exit()\n",
    "\n",
    "    summoner_id = data_summoner.get(\"id\")\n",
    "\n",
    "    champions = requests.get(\n",
    "        f\"https://euw1.api.riotgames.com/lol/champion-mastery/v4/champion-masteries/by-summoner/{summoner_id}?api_key={api_key}\"\n",
    "    ).json()\n",
    "\n",
    "    if type(champions) == dict:\n",
    "        if 403 == champions[\"status\"][\"status_code\"]:\n",
    "            print(\"API key expired.\")\n",
    "            exit()\n",
    "    elif type(champions) != list:\n",
    "        print(\"Erreur, la variable champions n'est pas une liste\")\n",
    "        exit()\n",
    "        \n",
    "\n",
    "    champions_data = []\n",
    "\n",
    "    # On verifie que le nombre de champions demandé n'est pas superieur au nombre de champions du joueur\n",
    "    # Si tel est le cas, on ne demande que le nombre de champions du joueur\n",
    "\n",
    "    # len = length\n",
    "    # len(champions) -> récupération de la longueur de la liste champions\n",
    "    if champions_count > len(champions):\n",
    "        champions_count = len(champions)\n",
    "\n",
    "\n",
    "    for champion in champions[:int(champions_count)]:\n",
    "\n",
    "        # On crée un dictionnaire pour stocker les données du champion\n",
    "        champion_formatted_data = {}\n",
    "\n",
    "        # On récupère le nom du champion à partir de son ID\n",
    "        champion_name = get_champion_name_by_id(champion[\"championId\"])\n",
    "\n",
    "        # On vérifie si le nom du champion a été trouvé\n",
    "        if champion_name == False:\n",
    "            print(\"Champion's name not found\")\n",
    "            champion_formatted_data[\"name\"] = champion[\"championId\"]\n",
    "        else:\n",
    "            champion_formatted_data[\"name\"] = champion_name\n",
    "\n",
    "        # On ajoute les autres données du champion\n",
    "        champion_formatted_data[\"points\"] = champion[\"championPoints\"]\n",
    "        champion_formatted_data[\"tokens\"] = champion[\"tokensEarned\"]\n",
    "\n",
    "        # On ajoute le dictionnaire du champion à la liste des champions\n",
    "        champions_data.append(champion_formatted_data)\n",
    "\n",
    "\n",
    "    champions_sorted_by_points = champions_data.copy()\n",
    "    champions_sorted_by_points.sort(key=lambda champion : champion[\"points\"], reverse=True)\n",
    "    print(champions_sorted_by_points)\n",
    "    \n",
    "    \n",
    "afficher_champions(\"SaintLoutr\",5)\n",
    "\n",
    "\n",
    "\n",
    "[{'name': 'Velkoz', 'points': 62379, 'tokens': 0}, {'name': 'Ezreal', 'points': 54455, 'tokens': 3}, {'name': 'Kaisa', 'points': 51950, 'tokens': 2}, {'name': 'Vayne', 'points': 42503, 'tokens': 3}, {'name': 'MissFortune', 'points': 33313, 'tokens': 1}]\n",
    "\n",
    "\n",
    "\n",
    "\n",
    "\n",
    "\n",
    "\n",
    "\n",
    "\n",
    "\n",
    "\n",
    "\n",
    "\n",
    "\n",
    "\n",
    "\n",
    "\n"
   ]
  },
  {
   "cell_type": "code",
   "execution_count": 26,
   "metadata": {},
   "outputs": [
    {
     "name": "stdout",
     "output_type": "stream",
     "text": [
      "['Haukeas Grémory', 'Silver', 3, 10] ['Haukeas Grémory', 'SILVER', 4, 90]\n",
      "1 -20\n",
      "['Sam', 'GOLD', 4, 23] ['Sam', 'GOLD', 4, 20]\n",
      "0 -3\n",
      "['ThePr1ncePotato', 'BRONZE', 3, 98] ['ThePr1ncePotato', 'BRONZE', 2, 20]\n",
      "1 22\n",
      "['ThePr1ncePotato', 'BRONZE', 3, 98] ['ThePr1ncePotato', 'BRONZE', 1, 20]\n",
      "2 22\n"
     ]
    }
   ],
   "source": [
    "['Haukeas Grémory', 'Silver', 3, 10],['Haukeas Grémory', 'SILVER', 4, 90]\n",
    "['Sam', 'GOLD', 4, 23],['Sam', 'GOLD', 4, 0]\n",
    "['ThePr1ncePotato', 'BRONZE', 3, 98],['ThePr1ncePotato', 'BRONZE', 2, 22]\n",
    "\n",
    "def datas(old_data, new_data):\n",
    "    print(old,new)\n",
    "    if old[2] > new[2]:\n",
    "        dif = old[2]-new[2]\n",
    "        if dif > 1:\n",
    "            diff = (new[3]+100)-old[3]\n",
    "        else:\n",
    "            diff = (new[3]+100)-old[3]\n",
    "        print(dif,diff)\n",
    "        \n",
    "    if old[2] < new[2]:\n",
    "        dif = new[2]-old[2]\n",
    "        diff = new[3]-(old[3]+100)\n",
    "        print(dif,diff)\n",
    "    \n",
    "    if old[2] == new[2]:\n",
    "        dif = old[2]-new[2]\n",
    "        diff = new[3]-old[3]\n",
    "        print(dif, diff)\n",
    "        \n",
    "        new_data[3] - old_data[3] + (new_data[2] - old_data[2]) * 100\n",
    "        \n",
    "\n",
    "        \n",
    "\n",
    "\n",
    "datas(['Haukeas Grémory', 'Silver', 3, 10],['Haukeas Grémory', 'SILVER', 4, 90])\n",
    "datas(['Sam', 'GOLD', 4, 23],['Sam', 'GOLD', 4, 20])\n",
    "datas(['ThePr1ncePotato', 'BRONZE', 3, 98],['ThePr1ncePotato', 'BRONZE', 2, 20])\n",
    "datas(['ThePr1ncePotato', 'BRONZE', 3, 98],['ThePr1ncePotato', 'BRONZE', 1, 20])\n",
    "    "
   ]
  },
  {
   "cell_type": "code",
   "execution_count": 85,
   "metadata": {},
   "outputs": [
    {
     "name": "stdout",
     "output_type": "stream",
     "text": [
      "97\n",
      "22\n",
      "-20\n",
      "0\n"
     ]
    }
   ],
   "source": [
    "def datas(old_data, new_data):\n",
    "    old_tier, old_rank, old_lp = old_data[1:]\n",
    "    new_tier, new_rank, new_lp = new_data[1:]\n",
    "\n",
    "    lp_change = new_lp - old_lp\n",
    "\n",
    "    if (old_rank > new_rank) and (old_tier == new_tier) :\n",
    "        rank_diff = old_rank - new_rank\n",
    "        lp_change += 100*rank_diff\n",
    "        \n",
    "    if (old_rank < new_rank) and (old_tier == new_tier) :\n",
    "        rank_diff = new_rank - old_rank \n",
    "        lp_change -= 100*rank_diff\n",
    "        \n",
    "    if old_tier != new_tier:\n",
    "        lp_change = 0\n",
    "        return lp_change\n",
    "\n",
    "    return lp_change\n",
    "\n",
    "print(datas(['Sam', 'GOLD', 4, 23],['Sam', 'GOLD', 3, 20])) # Output: -3\n",
    "print(datas(['ThePr1ncePotato', 'BRONZE', 3, 98],['ThePr1ncePotato','BRONZE', 2 ,20])) # Output:22\n",
    "print(datas(['Haukeas Grémory','SILVER' ,3 ,10] , ['Haukeas Grémory' ,'SILVER' ,4 ,90])) # Output:20\n",
    "print(datas(['Haukeas Grémory','SILVER' ,1 ,90] , ['Haukeas Grémory' ,'GOLD' ,4 ,10])) # Output:120"
   ]
  }
 ],
 "metadata": {
  "kernelspec": {
   "display_name": "Python 3",
   "language": "python",
   "name": "python3"
  },
  "language_info": {
   "codemirror_mode": {
    "name": "ipython",
    "version": 3
   },
   "file_extension": ".py",
   "mimetype": "text/x-python",
   "name": "python",
   "nbconvert_exporter": "python",
   "pygments_lexer": "ipython3",
   "version": "3.10.10"
  },
  "orig_nbformat": 4,
  "vscode": {
   "interpreter": {
    "hash": "c59af9261b624e332de6bd3da01cf174f757b5c645fe4791478215dc0e304c87"
   }
  }
 },
 "nbformat": 4,
 "nbformat_minor": 2
}
